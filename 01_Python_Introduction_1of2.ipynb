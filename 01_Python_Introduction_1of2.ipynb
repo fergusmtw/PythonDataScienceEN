{
  "nbformat": 4,
  "nbformat_minor": 0,
  "metadata": {
    "kernelspec": {
      "display_name": "Python 3",
      "language": "python",
      "name": "python3"
    },
    "language_info": {
      "codemirror_mode": {
        "name": "ipython",
        "version": 3
      },
      "file_extension": ".py",
      "mimetype": "text/x-python",
      "name": "python",
      "nbconvert_exporter": "python",
      "pygments_lexer": "ipython3",
      "version": "3.9.1"
    },
    "colab": {
      "name": "01.Python_Introduction_1of2.ipynb",
      "provenance": [],
      "toc_visible": true,
      "include_colab_link": true
    }
  },
  "cells": [
    {
      "cell_type": "markdown",
      "metadata": {
        "id": "view-in-github",
        "colab_type": "text"
      },
      "source": [
        "<a href=\"https://colab.research.google.com/github/fergusmtw/PythonDataScienceEN/blob/main/01_Python_Introduction_1of2.ipynb\" target=\"_parent\"><img src=\"https://colab.research.google.com/assets/colab-badge.svg\" alt=\"Open In Colab\"/></a>"
      ]
    },
    {
      "cell_type": "markdown",
      "metadata": {
        "id": "3xXBHu_JiYW5"
      },
      "source": [
        "# Python in Data Science"
      ]
    },
    {
      "cell_type": "markdown",
      "metadata": {
        "id": "NjG7CRWjiYW7"
      },
      "source": [
        "***"
      ]
    },
    {
      "cell_type": "markdown",
      "metadata": {
        "id": "YKByWWDriYW7"
      },
      "source": [
        "# Part 1 - Introduction\n",
        "## Python (1 of 2)"
      ]
    },
    {
      "cell_type": "markdown",
      "metadata": {
        "id": "Q3y5qK_fiYW8"
      },
      "source": [
        "***"
      ]
    },
    {
      "cell_type": "markdown",
      "metadata": {
        "id": "PqLKa7nkiYW9"
      },
      "source": [
        "# https://github.com/MichalKorzycki/PythonDataScienceEN\n"
      ]
    },
    {
      "cell_type": "markdown",
      "metadata": {
        "id": "RBw3FjFLiYW9"
      },
      "source": [
        "***"
      ]
    },
    {
      "cell_type": "markdown",
      "metadata": {
        "id": "-uU5UtQbiYW-"
      },
      "source": [
        "# Python"
      ]
    },
    {
      "cell_type": "markdown",
      "metadata": {
        "id": "fSzqqhxLiYW-"
      },
      "source": [
        "Python is:\n",
        "- a dynamic strongly-typed general purpose programming language\n",
        "- powers Youtube, Dropbox, Netflix, Instagram ...\n",
        "- can work as a stand-alone program called a \"script\"\n",
        "- or a notebook (what you see)\n",
        "- is a serious programming language"
      ]
    },
    {
      "cell_type": "markdown",
      "metadata": {
        "id": "z5S0Lx1diYW_"
      },
      "source": [
        "![title](img/rossum.jpg)"
      ]
    },
    {
      "cell_type": "markdown",
      "metadata": {
        "id": "yrpiM9y7iYXA"
      },
      "source": [
        "![title](img/gosling.jpg)"
      ]
    },
    {
      "cell_type": "markdown",
      "metadata": {
        "id": "v30cVeQfiYXB"
      },
      "source": [
        "![title](img/stroustrup.jpg)"
      ]
    },
    {
      "cell_type": "markdown",
      "metadata": {
        "id": "0HFjTeSSiYXB"
      },
      "source": [
        "![title](img/wall.jpg)"
      ]
    },
    {
      "cell_type": "markdown",
      "metadata": {
        "id": "LfSpLeSbiYXB"
      },
      "source": [
        "(sources: wikipedia)"
      ]
    },
    {
      "cell_type": "code",
      "metadata": {
        "id": "7zzyMx4-iYXC",
        "colab": {
          "base_uri": "https://localhost:8080/"
        },
        "outputId": "e4c1080f-3b57-4b86-c05e-ac2da169500d"
      },
      "source": [
        "print ('Hello World')"
      ],
      "execution_count": null,
      "outputs": [
        {
          "output_type": "stream",
          "text": [
            "Hello World\n"
          ],
          "name": "stdout"
        }
      ]
    },
    {
      "cell_type": "code",
      "metadata": {
        "id": "9dv5ivdGiYXC"
      },
      "source": [
        "import this"
      ],
      "execution_count": null,
      "outputs": []
    },
    {
      "cell_type": "code",
      "metadata": {
        "id": "64K3fn_PiYXC"
      },
      "source": [
        "import sys\n",
        "print (sys.version)"
      ],
      "execution_count": null,
      "outputs": []
    },
    {
      "cell_type": "markdown",
      "metadata": {
        "id": "fCZl6N_LiYXD"
      },
      "source": [
        "![title](img/python_growth.png)"
      ]
    },
    {
      "cell_type": "markdown",
      "metadata": {
        "id": "R-1BSL5hiYXD"
      },
      "source": [
        "Source: https://stackoverflow.blog/2017/09/06/incredible-growth-python/"
      ]
    },
    {
      "cell_type": "markdown",
      "metadata": {
        "id": "156noyGNiYXD"
      },
      "source": [
        "![tiobe](img/tiobe.png)"
      ]
    },
    {
      "cell_type": "markdown",
      "metadata": {
        "id": "n4oJ4Q91iYXD"
      },
      "source": [
        "Source: https://www.tiobe.com/tiobe-index/"
      ]
    },
    {
      "cell_type": "markdown",
      "metadata": {
        "id": "dnPE59MaiYXD"
      },
      "source": [
        "***"
      ]
    },
    {
      "cell_type": "markdown",
      "metadata": {
        "id": "dQZNktM8iYXD"
      },
      "source": [
        "---\n",
        "# Jupyter Notebooks\n",
        "\n",
        "... **Jupyter** is *simple* but _**powerful**_"
      ]
    },
    {
      "cell_type": "markdown",
      "metadata": {
        "id": "uBLgJartiYXE"
      },
      "source": [
        "$$\\sum_{i=1}^\\infty \\frac{1}{2^i} = 1$$"
      ]
    },
    {
      "cell_type": "markdown",
      "metadata": {
        "id": "9cfKvejwiYXE"
      },
      "source": [
        "This is: $P(A \\mid B) = \\frac{P(B \\mid A)P(A)}{P(B)}$ the _**Bayes Equation**_"
      ]
    },
    {
      "cell_type": "code",
      "metadata": {
        "id": "FC4G2NOliYXE",
        "colab": {
          "base_uri": "https://localhost:8080/",
          "height": 363
        },
        "outputId": "4534278d-65f9-4f01-fc48-2e1831c7bf22"
      },
      "source": [
        "import pandas as pd\n",
        "import numpy as np\n",
        "\n",
        "df = pd.DataFrame(np.random.randint(1,100, 110).reshape(-1, 11))\n",
        "df.columns=[chr(i) for i in range(ord('A'),ord('K')+1)]\n",
        "\n",
        "df[\"max\"] = df.apply(max,axis=1)\n",
        "df"
      ],
      "execution_count": null,
      "outputs": [
        {
          "output_type": "execute_result",
          "data": {
            "text/html": [
              "<div>\n",
              "<style scoped>\n",
              "    .dataframe tbody tr th:only-of-type {\n",
              "        vertical-align: middle;\n",
              "    }\n",
              "\n",
              "    .dataframe tbody tr th {\n",
              "        vertical-align: top;\n",
              "    }\n",
              "\n",
              "    .dataframe thead th {\n",
              "        text-align: right;\n",
              "    }\n",
              "</style>\n",
              "<table border=\"1\" class=\"dataframe\">\n",
              "  <thead>\n",
              "    <tr style=\"text-align: right;\">\n",
              "      <th></th>\n",
              "      <th>A</th>\n",
              "      <th>B</th>\n",
              "      <th>C</th>\n",
              "      <th>D</th>\n",
              "      <th>E</th>\n",
              "      <th>F</th>\n",
              "      <th>G</th>\n",
              "      <th>H</th>\n",
              "      <th>I</th>\n",
              "      <th>J</th>\n",
              "      <th>K</th>\n",
              "      <th>max</th>\n",
              "    </tr>\n",
              "  </thead>\n",
              "  <tbody>\n",
              "    <tr>\n",
              "      <th>0</th>\n",
              "      <td>96</td>\n",
              "      <td>11</td>\n",
              "      <td>6</td>\n",
              "      <td>88</td>\n",
              "      <td>8</td>\n",
              "      <td>58</td>\n",
              "      <td>57</td>\n",
              "      <td>10</td>\n",
              "      <td>97</td>\n",
              "      <td>62</td>\n",
              "      <td>17</td>\n",
              "      <td>97</td>\n",
              "    </tr>\n",
              "    <tr>\n",
              "      <th>1</th>\n",
              "      <td>29</td>\n",
              "      <td>74</td>\n",
              "      <td>48</td>\n",
              "      <td>54</td>\n",
              "      <td>16</td>\n",
              "      <td>88</td>\n",
              "      <td>71</td>\n",
              "      <td>8</td>\n",
              "      <td>32</td>\n",
              "      <td>78</td>\n",
              "      <td>48</td>\n",
              "      <td>88</td>\n",
              "    </tr>\n",
              "    <tr>\n",
              "      <th>2</th>\n",
              "      <td>87</td>\n",
              "      <td>16</td>\n",
              "      <td>93</td>\n",
              "      <td>22</td>\n",
              "      <td>9</td>\n",
              "      <td>25</td>\n",
              "      <td>65</td>\n",
              "      <td>11</td>\n",
              "      <td>22</td>\n",
              "      <td>8</td>\n",
              "      <td>65</td>\n",
              "      <td>93</td>\n",
              "    </tr>\n",
              "    <tr>\n",
              "      <th>3</th>\n",
              "      <td>55</td>\n",
              "      <td>98</td>\n",
              "      <td>28</td>\n",
              "      <td>97</td>\n",
              "      <td>62</td>\n",
              "      <td>85</td>\n",
              "      <td>30</td>\n",
              "      <td>25</td>\n",
              "      <td>89</td>\n",
              "      <td>77</td>\n",
              "      <td>96</td>\n",
              "      <td>98</td>\n",
              "    </tr>\n",
              "    <tr>\n",
              "      <th>4</th>\n",
              "      <td>82</td>\n",
              "      <td>80</td>\n",
              "      <td>72</td>\n",
              "      <td>32</td>\n",
              "      <td>70</td>\n",
              "      <td>22</td>\n",
              "      <td>48</td>\n",
              "      <td>91</td>\n",
              "      <td>63</td>\n",
              "      <td>75</td>\n",
              "      <td>15</td>\n",
              "      <td>91</td>\n",
              "    </tr>\n",
              "    <tr>\n",
              "      <th>5</th>\n",
              "      <td>13</td>\n",
              "      <td>32</td>\n",
              "      <td>33</td>\n",
              "      <td>88</td>\n",
              "      <td>9</td>\n",
              "      <td>62</td>\n",
              "      <td>38</td>\n",
              "      <td>16</td>\n",
              "      <td>78</td>\n",
              "      <td>79</td>\n",
              "      <td>51</td>\n",
              "      <td>88</td>\n",
              "    </tr>\n",
              "    <tr>\n",
              "      <th>6</th>\n",
              "      <td>28</td>\n",
              "      <td>26</td>\n",
              "      <td>78</td>\n",
              "      <td>10</td>\n",
              "      <td>33</td>\n",
              "      <td>3</td>\n",
              "      <td>78</td>\n",
              "      <td>8</td>\n",
              "      <td>47</td>\n",
              "      <td>7</td>\n",
              "      <td>39</td>\n",
              "      <td>78</td>\n",
              "    </tr>\n",
              "    <tr>\n",
              "      <th>7</th>\n",
              "      <td>69</td>\n",
              "      <td>62</td>\n",
              "      <td>44</td>\n",
              "      <td>93</td>\n",
              "      <td>81</td>\n",
              "      <td>24</td>\n",
              "      <td>10</td>\n",
              "      <td>10</td>\n",
              "      <td>63</td>\n",
              "      <td>19</td>\n",
              "      <td>45</td>\n",
              "      <td>93</td>\n",
              "    </tr>\n",
              "    <tr>\n",
              "      <th>8</th>\n",
              "      <td>12</td>\n",
              "      <td>30</td>\n",
              "      <td>20</td>\n",
              "      <td>51</td>\n",
              "      <td>61</td>\n",
              "      <td>6</td>\n",
              "      <td>72</td>\n",
              "      <td>54</td>\n",
              "      <td>61</td>\n",
              "      <td>79</td>\n",
              "      <td>45</td>\n",
              "      <td>79</td>\n",
              "    </tr>\n",
              "    <tr>\n",
              "      <th>9</th>\n",
              "      <td>4</td>\n",
              "      <td>92</td>\n",
              "      <td>16</td>\n",
              "      <td>43</td>\n",
              "      <td>52</td>\n",
              "      <td>29</td>\n",
              "      <td>22</td>\n",
              "      <td>18</td>\n",
              "      <td>65</td>\n",
              "      <td>71</td>\n",
              "      <td>61</td>\n",
              "      <td>92</td>\n",
              "    </tr>\n",
              "  </tbody>\n",
              "</table>\n",
              "</div>"
            ],
            "text/plain": [
              "    A   B   C   D   E   F   G   H   I   J   K  max\n",
              "0  96  11   6  88   8  58  57  10  97  62  17   97\n",
              "1  29  74  48  54  16  88  71   8  32  78  48   88\n",
              "2  87  16  93  22   9  25  65  11  22   8  65   93\n",
              "3  55  98  28  97  62  85  30  25  89  77  96   98\n",
              "4  82  80  72  32  70  22  48  91  63  75  15   91\n",
              "5  13  32  33  88   9  62  38  16  78  79  51   88\n",
              "6  28  26  78  10  33   3  78   8  47   7  39   78\n",
              "7  69  62  44  93  81  24  10  10  63  19  45   93\n",
              "8  12  30  20  51  61   6  72  54  61  79  45   79\n",
              "9   4  92  16  43  52  29  22  18  65  71  61   92"
            ]
          },
          "metadata": {},
          "execution_count": 2
        }
      ]
    },
    {
      "cell_type": "code",
      "metadata": {
        "id": "trFP4oITiYXE",
        "colab": {
          "base_uri": "https://localhost:8080/",
          "height": 247
        },
        "outputId": "83d5be9e-7251-4d66-9008-95d987521855"
      },
      "source": [
        "%matplotlib inline\n",
        "import matplotlib.pyplot as plt\n",
        "import numpy as np\n",
        "\n",
        "plt.style.use(\"dark_background\")\n",
        "\n",
        "x = np.linspace(0, 10, 100)\n",
        "fig = plt.figure(figsize=(20,4))\n",
        "plt.plot(x, np.sin(x), '-')\n",
        "plt.plot(x, np.cos(x), '.');"
      ],
      "execution_count": null,
      "outputs": [
        {
          "output_type": "display_data",
          "data": {
            "image/png": "[encoded data removed]",
            "text/plain": [
              "<Figure size 1440x288 with 1 Axes>"
            ]
          },
          "metadata": {}
        }
      ]
    },
    {
      "cell_type": "code",
      "metadata": {
        "id": "BlATy3vGiYXF",
        "colab": {
          "base_uri": "https://localhost:8080/",
          "height": 247
        },
        "outputId": "33dc9692-a737-498a-e67a-9eb6b82e67be"
      },
      "source": [
        "%matplotlib inline\n",
        "import matplotlib.pyplot as plt\n",
        "import numpy as np\n",
        "\n",
        "plt.style.use(\"dark_background\")\n",
        "\n",
        "x = np.linspace(0, 10, 100)\n",
        "fig = plt.figure(figsize=(20,4))\n",
        "plt.plot(x, np.sin(x), '-')\n",
        "plt.plot(x, np.cos(x), '.');"
      ],
      "execution_count": null,
      "outputs": [
        {
          "output_type": "display_data",
          "data": {
            "image/png": "[encoded data removed]",
            "text/plain": [
              "<Figure size 1440x288 with 1 Axes>"
            ]
          },
          "metadata": {}
        }
      ]
    },
    {
      "cell_type": "markdown",
      "metadata": {
        "id": "ihYATjYQiYXF"
      },
      "source": [
        "# https://www.anaconda.com/download/\n",
        "\n",
        "# https://colab.research.google.com/\n",
        "---"
      ]
    },
    {
      "cell_type": "markdown",
      "metadata": {
        "id": "55GRid2miYXF"
      },
      "source": [
        "# Syntax"
      ]
    },
    {
      "cell_type": "markdown",
      "metadata": {
        "id": "Wz6vSS2DiYXF"
      },
      "source": [
        "## Variables and their types"
      ]
    },
    {
      "cell_type": "code",
      "metadata": {
        "id": "cO3wmr76iYXF"
      },
      "source": [
        "s = 'Hello world'"
      ],
      "execution_count": null,
      "outputs": []
    },
    {
      "cell_type": "code",
      "metadata": {
        "id": "oigNm2oZiYXF",
        "colab": {
          "base_uri": "https://localhost:8080/",
          "height": 35
        },
        "outputId": "907b7854-e54c-448d-b9ef-fd5cd753033d"
      },
      "source": [
        "s"
      ],
      "execution_count": null,
      "outputs": [
        {
          "output_type": "execute_result",
          "data": {
            "application/vnd.google.colaboratory.intrinsic+json": {
              "type": "string"
            },
            "text/plain": [
              "'Hello world'"
            ]
          },
          "metadata": {},
          "execution_count": 26
        }
      ]
    },
    {
      "cell_type": "markdown",
      "metadata": {
        "id": "d1PxoR5xiYXF"
      },
      "source": [
        "## Variable types\n",
        "### Primitive\n",
        "- integers (`int`)\n",
        "- floating point (`float`)\n",
        "- strings of characters (`str`)\n",
        "- Booleans (`True` and `False`)\n",
        "\n",
        "### Non-primitive\n",
        "- lists - (`list`)\n",
        "- tuples - (`tuple`)\n",
        "- dictionaries - (`dict`)\n",
        "- ...\n"
      ]
    },
    {
      "cell_type": "code",
      "metadata": {
        "id": "JAFx88nBiYXF"
      },
      "source": [
        "7+2"
      ],
      "execution_count": null,
      "outputs": []
    },
    {
      "cell_type": "code",
      "metadata": {
        "id": "38cIFFM-iYXG"
      },
      "source": [
        "7/2"
      ],
      "execution_count": null,
      "outputs": []
    },
    {
      "cell_type": "markdown",
      "metadata": {
        "id": "jeBnpqMFiYXG"
      },
      "source": [
        "### Integer division"
      ]
    },
    {
      "cell_type": "code",
      "metadata": {
        "id": "9N0qP2I6iYXG"
      },
      "source": [
        "7//2"
      ],
      "execution_count": null,
      "outputs": []
    },
    {
      "cell_type": "markdown",
      "metadata": {
        "id": "AeK_pu6PiYXG"
      },
      "source": [
        "### The Modulo operator (the remainder of dividing the left hand operand by right hand operand)"
      ]
    },
    {
      "cell_type": "code",
      "metadata": {
        "id": "iMCrunOoiYXG"
      },
      "source": [
        "7%2"
      ],
      "execution_count": null,
      "outputs": []
    },
    {
      "cell_type": "markdown",
      "metadata": {
        "id": "xAuxBBhNiYXG"
      },
      "source": [
        "## Python is a dynamically typed language\n"
      ]
    },
    {
      "cell_type": "code",
      "metadata": {
        "id": "ye2oVbShiYXG",
        "colab": {
          "base_uri": "https://localhost:8080/"
        },
        "outputId": "e764f3af-26fa-4d47-d15c-5b2cfa30d389"
      },
      "source": [
        "s = 3\n",
        "s"
      ],
      "execution_count": null,
      "outputs": [
        {
          "output_type": "execute_result",
          "data": {
            "text/plain": [
              "3"
            ]
          },
          "metadata": {},
          "execution_count": 100
        }
      ]
    },
    {
      "cell_type": "code",
      "metadata": {
        "id": "2_aqTwcLiYXG"
      },
      "source": [
        "s = \"Hello \""
      ],
      "execution_count": null,
      "outputs": []
    },
    {
      "cell_type": "code",
      "metadata": {
        "id": "039X1zygiYXG",
        "colab": {
          "base_uri": "https://localhost:8080/",
          "height": 35
        },
        "outputId": "61f054eb-3eba-408d-9b63-a64ccd42239c"
      },
      "source": [
        "s = s + \"world\"\n",
        "s"
      ],
      "execution_count": null,
      "outputs": [
        {
          "output_type": "execute_result",
          "data": {
            "application/vnd.google.colaboratory.intrinsic+json": {
              "type": "string"
            },
            "text/plain": [
              "'Hello world'"
            ]
          },
          "metadata": {},
          "execution_count": 119
        }
      ]
    },
    {
      "cell_type": "code",
      "metadata": {
        "id": "UZzDLhmNiYXG"
      },
      "source": [
        "n = 3"
      ],
      "execution_count": null,
      "outputs": []
    },
    {
      "cell_type": "code",
      "metadata": {
        "id": "CzJwRjmfiYXH",
        "colab": {
          "base_uri": "https://localhost:8080/",
          "height": 183
        },
        "outputId": "b0b82966-6b22-4c8d-e5a0-3da88a3da9c4"
      },
      "source": [
        "s = \"Hello \" + n + \" worlds\"\n",
        "s"
      ],
      "execution_count": null,
      "outputs": [
        {
          "output_type": "error",
          "ename": "TypeError",
          "evalue": "ignored",
          "traceback": [
            "\u001b[0;31m---------------------------------------------------------------------------\u001b[0m",
            "\u001b[0;31mTypeError\u001b[0m                                 Traceback (most recent call last)",
            "\u001b[0;32m<ipython-input-121-1d160ceac31a>\u001b[0m in \u001b[0;36m<module>\u001b[0;34m()\u001b[0m\n\u001b[0;32m----> 1\u001b[0;31m \u001b[0ms\u001b[0m \u001b[0;34m=\u001b[0m \u001b[0;34m\"Hello \"\u001b[0m \u001b[0;34m+\u001b[0m \u001b[0mn\u001b[0m \u001b[0;34m+\u001b[0m \u001b[0;34m\" worlds\"\u001b[0m\u001b[0;34m\u001b[0m\u001b[0;34m\u001b[0m\u001b[0m\n\u001b[0m\u001b[1;32m      2\u001b[0m \u001b[0ms\u001b[0m\u001b[0;34m\u001b[0m\u001b[0;34m\u001b[0m\u001b[0m\n",
            "\u001b[0;31mTypeError\u001b[0m: can only concatenate str (not \"int\") to str"
          ]
        }
      ]
    },
    {
      "cell_type": "markdown",
      "metadata": {
        "id": "ez124xs4iYXH"
      },
      "source": [
        "##  Python is a strongly typed language"
      ]
    },
    {
      "cell_type": "code",
      "metadata": {
        "id": "6timthlLiYXH",
        "colab": {
          "base_uri": "https://localhost:8080/",
          "height": 35
        },
        "outputId": "df65f839-5635-460c-f92e-9518e7740b27"
      },
      "source": [
        "s = \"Hello \" + str(n) + \" worlds. \"\n",
        "s"
      ],
      "execution_count": null,
      "outputs": [
        {
          "output_type": "execute_result",
          "data": {
            "application/vnd.google.colaboratory.intrinsic+json": {
              "type": "string"
            },
            "text/plain": [
              "'Hello 3 worlds. '"
            ]
          },
          "metadata": {},
          "execution_count": 128
        }
      ]
    },
    {
      "cell_type": "code",
      "metadata": {
        "id": "7RYR3MEKiYXH",
        "colab": {
          "base_uri": "https://localhost:8080/",
          "height": 35
        },
        "outputId": "09dee400-8771-4d98-89d4-81e9ef69d233"
      },
      "source": [
        "(s+\"|\") * 4"
      ],
      "execution_count": null,
      "outputs": [
        {
          "output_type": "execute_result",
          "data": {
            "application/vnd.google.colaboratory.intrinsic+json": {
              "type": "string"
            },
            "text/plain": [
              "'Hello 3 worlds. |Hello 3 worlds. |Hello 3 worlds. |Hello 3 worlds. |'"
            ]
          },
          "metadata": {},
          "execution_count": 129
        }
      ]
    },
    {
      "cell_type": "code",
      "metadata": {
        "id": "hit6LdmIiYXH",
        "colab": {
          "base_uri": "https://localhost:8080/",
          "height": 35
        },
        "outputId": "6cdc6375-2f25-4394-a676-9fc1e056ed7f"
      },
      "source": [
        "\"10\""
      ],
      "execution_count": null,
      "outputs": [
        {
          "output_type": "execute_result",
          "data": {
            "application/vnd.google.colaboratory.intrinsic+json": {
              "type": "string"
            },
            "text/plain": [
              "'10'"
            ]
          },
          "metadata": {},
          "execution_count": 130
        }
      ]
    },
    {
      "cell_type": "code",
      "metadata": {
        "id": "AP6Yww77iYXH",
        "colab": {
          "base_uri": "https://localhost:8080/"
        },
        "outputId": "ee08c70a-9aee-4f36-98ed-732f202ce194"
      },
      "source": [
        "int(\"10\")"
      ],
      "execution_count": null,
      "outputs": [
        {
          "output_type": "execute_result",
          "data": {
            "text/plain": [
              "10"
            ]
          },
          "metadata": {},
          "execution_count": 131
        }
      ]
    },
    {
      "cell_type": "code",
      "metadata": {
        "id": "IWnYl9u_iYXH",
        "colab": {
          "base_uri": "https://localhost:8080/"
        },
        "outputId": "73eb1f20-2594-4658-ff08-e43a5931dd97"
      },
      "source": [
        "int(\"10\", base=2)"
      ],
      "execution_count": null,
      "outputs": [
        {
          "output_type": "execute_result",
          "data": {
            "text/plain": [
              "2"
            ]
          },
          "metadata": {},
          "execution_count": 132
        }
      ]
    },
    {
      "cell_type": "code",
      "metadata": {
        "id": "lwZQ_WphiYXH",
        "colab": {
          "base_uri": "https://localhost:8080/"
        },
        "outputId": "add0605a-a90e-46ac-deb2-e00246aebf2e"
      },
      "source": [
        "int(\"20\", base=6)"
      ],
      "execution_count": null,
      "outputs": [
        {
          "output_type": "execute_result",
          "data": {
            "text/plain": [
              "12"
            ]
          },
          "metadata": {},
          "execution_count": 133
        }
      ]
    },
    {
      "cell_type": "markdown",
      "metadata": {
        "id": "uyNIvVkziYXH"
      },
      "source": [
        "## String formatting"
      ]
    },
    {
      "cell_type": "code",
      "metadata": {
        "id": "4g2y0LCxiYXH",
        "colab": {
          "base_uri": "https://localhost:8080/",
          "height": 35
        },
        "outputId": "20254ca7-db64-469b-a84b-e6a5b3da61f3"
      },
      "source": [
        "'%d is a number' % 3"
      ],
      "execution_count": null,
      "outputs": [
        {
          "output_type": "execute_result",
          "data": {
            "application/vnd.google.colaboratory.intrinsic+json": {
              "type": "string"
            },
            "text/plain": [
              "'3 is a number'"
            ]
          },
          "metadata": {},
          "execution_count": 9
        }
      ]
    },
    {
      "cell_type": "code",
      "metadata": {
        "id": "29biMc9WiYXH"
      },
      "source": [
        "'PI is more or less equal to %.2f'  % 3.141526"
      ],
      "execution_count": null,
      "outputs": []
    },
    {
      "cell_type": "code",
      "metadata": {
        "id": "Nf47-2tfiYXH"
      },
      "source": [
        "'%d is a number and %d is also a number' % (3,7)"
      ],
      "execution_count": null,
      "outputs": []
    },
    {
      "cell_type": "code",
      "metadata": {
        "id": "DasINDbhiYXH"
      },
      "source": [
        "str(3) + ' is a number and ' + str(7) + ' is also a number'"
      ],
      "execution_count": null,
      "outputs": []
    },
    {
      "cell_type": "code",
      "metadata": {
        "id": "eyBHU8OxiYXI",
        "colab": {
          "base_uri": "https://localhost:8080/",
          "height": 35
        },
        "outputId": "b42f6c4c-7a9d-4681-c35a-e6e38a2d05ee"
      },
      "source": [
        "n = 3\n",
        "m = 11117\n",
        "f'{n} is a number and {m} is also a number'"
      ],
      "execution_count": null,
      "outputs": [
        {
          "output_type": "execute_result",
          "data": {
            "application/vnd.google.colaboratory.intrinsic+json": {
              "type": "string"
            },
            "text/plain": [
              "'3 is a number and 11117 is also a number'"
            ]
          },
          "metadata": {},
          "execution_count": 27
        }
      ]
    },
    {
      "cell_type": "markdown",
      "metadata": {
        "id": "AxWp7SpciYXI"
      },
      "source": [
        "## Boolean"
      ]
    },
    {
      "cell_type": "code",
      "metadata": {
        "id": "Bn2amsuMiYXI",
        "colab": {
          "base_uri": "https://localhost:8080/"
        },
        "outputId": "2134704a-3b50-4db6-b649-aceb47510f0f"
      },
      "source": [
        "n == 3"
      ],
      "execution_count": null,
      "outputs": [
        {
          "output_type": "execute_result",
          "data": {
            "text/plain": [
              "True"
            ]
          },
          "metadata": {},
          "execution_count": 46
        }
      ]
    },
    {
      "cell_type": "code",
      "metadata": {
        "id": "o48fQiSdiYXI"
      },
      "source": [
        "n != 3"
      ],
      "execution_count": null,
      "outputs": []
    },
    {
      "cell_type": "code",
      "metadata": {
        "id": "iiaxi-yRiYXI"
      },
      "source": [
        "not n == 3"
      ],
      "execution_count": null,
      "outputs": []
    },
    {
      "cell_type": "code",
      "metadata": {
        "id": "gO0ytuxziYXI",
        "colab": {
          "base_uri": "https://localhost:8080/"
        },
        "outputId": "4fa87f07-659f-402b-8348-26414af53d95"
      },
      "source": [
        "n == 3 or n != 3"
      ],
      "execution_count": null,
      "outputs": [
        {
          "output_type": "execute_result",
          "data": {
            "text/plain": [
              "True"
            ]
          },
          "metadata": {},
          "execution_count": 47
        }
      ]
    },
    {
      "cell_type": "code",
      "metadata": {
        "id": "GPLG4E2niYXI",
        "colab": {
          "base_uri": "https://localhost:8080/"
        },
        "outputId": "0e4d681a-5dd6-4c9b-d100-979bcde6e4b0"
      },
      "source": [
        "n == 3 and n != 3"
      ],
      "execution_count": null,
      "outputs": [
        {
          "output_type": "execute_result",
          "data": {
            "text/plain": [
              "False"
            ]
          },
          "metadata": {},
          "execution_count": 48
        }
      ]
    },
    {
      "cell_type": "code",
      "metadata": {
        "id": "PNILpBBwiYXI",
        "colab": {
          "base_uri": "https://localhost:8080/"
        },
        "outputId": "4248a382-4952-4f6c-e77a-744b22986609"
      },
      "source": [
        "if n == 3:\n",
        "    print( \"Three\" )"
      ],
      "execution_count": null,
      "outputs": [
        {
          "output_type": "stream",
          "text": [
            "Three\n"
          ],
          "name": "stdout"
        }
      ]
    },
    {
      "cell_type": "code",
      "metadata": {
        "id": "idn5A7I5iYXI",
        "colab": {
          "base_uri": "https://localhost:8080/"
        },
        "outputId": "5cbc14ee-f3fb-4211-dbf1-e0c92acf3ee0"
      },
      "source": [
        "if n == 4:\n",
        "    print (\"Four\")\n",
        "else:\n",
        "    print(\"Not four\")"
      ],
      "execution_count": null,
      "outputs": [
        {
          "output_type": "stream",
          "text": [
            "Not four\n"
          ],
          "name": "stdout"
        }
      ]
    },
    {
      "cell_type": "code",
      "metadata": {
        "id": "gbQrGNR5iYXI"
      },
      "source": [
        "if n == 4:\n",
        "    print (\"Four\")\n",
        "elif n == 3:\n",
        "    print (\"Three\")\n",
        "    print (\"3\")    \n",
        "else:\n",
        "    print(\"Neither three or four\")"
      ],
      "execution_count": null,
      "outputs": []
    },
    {
      "cell_type": "code",
      "metadata": {
        "id": "eNZiEJImiYXI"
      },
      "source": [
        "n = 4\n",
        "if n == 4:\n",
        "    print (\"Four\")\n",
        "elif n == 3:\n",
        "    print (\"Three\")\n",
        "    print (\"3\")    \n",
        "else:\n",
        "    print(\"Neither three or four\")"
      ],
      "execution_count": null,
      "outputs": []
    },
    {
      "cell_type": "markdown",
      "metadata": {
        "id": "6AORdNMJiYXI"
      },
      "source": [
        "## Lists"
      ]
    },
    {
      "cell_type": "code",
      "metadata": {
        "id": "tU5wp4OViYXJ",
        "colab": {
          "base_uri": "https://localhost:8080/"
        },
        "outputId": "1c507a72-9946-4614-b2de-bc9ae22bcd8f"
      },
      "source": [
        "a = [3,5,6,7]\n",
        "a"
      ],
      "execution_count": null,
      "outputs": [
        {
          "output_type": "execute_result",
          "data": {
            "text/plain": [
              "[3, 5, 6, 7]"
            ]
          },
          "metadata": {},
          "execution_count": 1
        }
      ]
    },
    {
      "cell_type": "code",
      "metadata": {
        "id": "dngynO4QiYXJ",
        "colab": {
          "base_uri": "https://localhost:8080/"
        },
        "outputId": "f328ac2b-9748-4b79-dc98-2a780ce4264b"
      },
      "source": [
        "a[1]"
      ],
      "execution_count": null,
      "outputs": [
        {
          "output_type": "execute_result",
          "data": {
            "text/plain": [
              "5"
            ]
          },
          "metadata": {},
          "execution_count": 16
        }
      ]
    },
    {
      "cell_type": "code",
      "metadata": {
        "id": "JqHzk7muiYXJ"
      },
      "source": [
        "a[0]"
      ],
      "execution_count": null,
      "outputs": []
    },
    {
      "cell_type": "code",
      "metadata": {
        "id": "WNaS_HA_iYXJ",
        "colab": {
          "base_uri": "https://localhost:8080/"
        },
        "outputId": "df7d7614-e4f0-4c48-ffbd-d90f22b4cd5f"
      },
      "source": [
        "a[0:2]"
      ],
      "execution_count": null,
      "outputs": [
        {
          "output_type": "execute_result",
          "data": {
            "text/plain": [
              "[3, 5]"
            ]
          },
          "metadata": {},
          "execution_count": 17
        }
      ]
    },
    {
      "cell_type": "code",
      "metadata": {
        "id": "FLANz8FUiYXJ"
      },
      "source": [
        "a[-1]"
      ],
      "execution_count": null,
      "outputs": []
    },
    {
      "cell_type": "code",
      "metadata": {
        "id": "IMF4-SpMiYXJ",
        "colab": {
          "base_uri": "https://localhost:8080/"
        },
        "outputId": "964417eb-d753-4e89-8510-1148396be5d5"
      },
      "source": [
        "a[1:-1]"
      ],
      "execution_count": null,
      "outputs": [
        {
          "output_type": "execute_result",
          "data": {
            "text/plain": [
              "[5, 6]"
            ]
          },
          "metadata": {},
          "execution_count": 18
        }
      ]
    },
    {
      "cell_type": "raw",
      "metadata": {
        "id": "N1-RAKBLiYXJ"
      },
      "source": [
        "  0   1   2   3\n",
        "\n",
        "  |   |   |   |\n",
        "\n",
        "[ 4 , 5 , 6 , 7 ]\n",
        " \n",
        "  |   |   |   |\n",
        "\n",
        " -4  -3  -2  -1"
      ]
    },
    {
      "cell_type": "code",
      "metadata": {
        "id": "uZdggS1WiYXJ"
      },
      "source": [
        "a[-4]"
      ],
      "execution_count": null,
      "outputs": []
    },
    {
      "cell_type": "code",
      "metadata": {
        "id": "-kzieUYGiYXJ"
      },
      "source": [
        "a[:-1]"
      ],
      "execution_count": null,
      "outputs": []
    },
    {
      "cell_type": "code",
      "metadata": {
        "id": "PE0sq681iYXJ"
      },
      "source": [
        "a[1:-1]+a[0:-1]"
      ],
      "execution_count": null,
      "outputs": []
    },
    {
      "cell_type": "code",
      "metadata": {
        "id": "52zQLgyFiYXJ",
        "colab": {
          "base_uri": "https://localhost:8080/"
        },
        "outputId": "5ecf1db2-8462-4c90-8510-2e7ea1d81cfe"
      },
      "source": [
        "len(a)"
      ],
      "execution_count": null,
      "outputs": [
        {
          "output_type": "execute_result",
          "data": {
            "text/plain": [
              "5"
            ]
          },
          "metadata": {},
          "execution_count": 86
        }
      ]
    },
    {
      "cell_type": "code",
      "metadata": {
        "id": "FrEYc3xoiYXJ"
      },
      "source": [
        "for i in a:\n",
        "    print (f'{i}.')\n",
        "    print(\"!\")"
      ],
      "execution_count": null,
      "outputs": []
    },
    {
      "cell_type": "code",
      "metadata": {
        "id": "nxVqtlIKiYXJ",
        "colab": {
          "base_uri": "https://localhost:8080/"
        },
        "outputId": "3e03e547-b4cd-45dd-a434-c40e03e7fb5c"
      },
      "source": [
        "for i in range(len(a)):\n",
        "    print(i)"
      ],
      "execution_count": null,
      "outputs": [
        {
          "output_type": "stream",
          "text": [
            "0\n",
            "1\n",
            "2\n",
            "3\n",
            "4\n"
          ],
          "name": "stdout"
        }
      ]
    },
    {
      "cell_type": "code",
      "metadata": {
        "id": "-EzG9fK1iYXJ"
      },
      "source": [
        "for i in range(len(a)):\n",
        "    print(f'{i}: {a[i]}')"
      ],
      "execution_count": null,
      "outputs": []
    },
    {
      "cell_type": "code",
      "metadata": {
        "id": "Qr-eui73iYXK",
        "colab": {
          "base_uri": "https://localhost:8080/"
        },
        "outputId": "4d283f3e-192d-495e-ed9c-1a2fc515d3ea"
      },
      "source": [
        "a.append(8)\n",
        "a"
      ],
      "execution_count": null,
      "outputs": [
        {
          "output_type": "execute_result",
          "data": {
            "text/plain": [
              "[3, 5, 6, 7, 8]"
            ]
          },
          "metadata": {},
          "execution_count": 84
        }
      ]
    },
    {
      "cell_type": "code",
      "metadata": {
        "id": "PmmqqNyniYXK",
        "colab": {
          "base_uri": "https://localhost:8080/"
        },
        "outputId": "a0dbce30-9dc6-45b6-f674-dde7e4475836"
      },
      "source": [
        "a + a"
      ],
      "execution_count": null,
      "outputs": [
        {
          "output_type": "execute_result",
          "data": {
            "text/plain": [
              "[3, 5, 6, 7, 8, 3, 5, 6, 7, 8]"
            ]
          },
          "metadata": {},
          "execution_count": 159
        }
      ]
    },
    {
      "cell_type": "code",
      "metadata": {
        "id": "yugddvlsiYXK"
      },
      "source": [
        "a * 3"
      ],
      "execution_count": null,
      "outputs": []
    },
    {
      "cell_type": "code",
      "metadata": {
        "id": "gnhZY4lIiYXK"
      },
      "source": [
        "s"
      ],
      "execution_count": null,
      "outputs": []
    },
    {
      "cell_type": "code",
      "metadata": {
        "id": "iZmZCk5uiYXK"
      },
      "source": [
        "s[0]"
      ],
      "execution_count": null,
      "outputs": []
    },
    {
      "cell_type": "code",
      "metadata": {
        "id": "orRrUGzHiYXK",
        "colab": {
          "base_uri": "https://localhost:8080/",
          "height": 35
        },
        "outputId": "47beb2da-2bb3-4e21-9c93-422189c3816a"
      },
      "source": [
        "\" - \".join( [\"This\", \"is\", \"Alice\"] )"
      ],
      "execution_count": null,
      "outputs": [
        {
          "output_type": "execute_result",
          "data": {
            "application/vnd.google.colaboratory.intrinsic+json": {
              "type": "string"
            },
            "text/plain": [
              "'This - is - Alice'"
            ]
          },
          "metadata": {},
          "execution_count": 156
        }
      ]
    },
    {
      "cell_type": "code",
      "metadata": {
        "id": "D9zo6d14iYXK",
        "colab": {
          "base_uri": "https://localhost:8080/",
          "height": 35
        },
        "outputId": "b7ae6731-864e-458f-aa31-e03da197d00a"
      },
      "source": [
        "\"\".join( [\"This\", \"is\", \"Alice\"] )"
      ],
      "execution_count": null,
      "outputs": [
        {
          "output_type": "execute_result",
          "data": {
            "application/vnd.google.colaboratory.intrinsic+json": {
              "type": "string"
            },
            "text/plain": [
              "'ThisisAlice'"
            ]
          },
          "metadata": {},
          "execution_count": 157
        }
      ]
    },
    {
      "cell_type": "code",
      "metadata": {
        "id": "F4O7pq0NiYXK"
      },
      "source": [
        "s2 = '.|.'"
      ],
      "execution_count": null,
      "outputs": []
    },
    {
      "cell_type": "code",
      "metadata": {
        "id": "mhvb4lyUiYXK",
        "colab": {
          "base_uri": "https://localhost:8080/",
          "height": 35
        },
        "outputId": "eaf76e20-17e1-49b7-c0c4-3d7b5ad9c9ad"
      },
      "source": [
        "s2.join([\"This\", \"is\", \"Alice\"] )"
      ],
      "execution_count": null,
      "outputs": [
        {
          "output_type": "execute_result",
          "data": {
            "application/vnd.google.colaboratory.intrinsic+json": {
              "type": "string"
            },
            "text/plain": [
              "'This.|.is.|.Alice'"
            ]
          },
          "metadata": {},
          "execution_count": 158
        }
      ]
    },
    {
      "cell_type": "markdown",
      "metadata": {
        "id": "UvMvAR4CiYXK"
      },
      "source": [
        "## Tuples"
      ]
    },
    {
      "cell_type": "code",
      "metadata": {
        "id": "bXJN_RU6iYXK"
      },
      "source": [
        "t = (1, 2, 3, 4)\n",
        "t"
      ],
      "execution_count": null,
      "outputs": []
    },
    {
      "cell_type": "markdown",
      "metadata": {
        "id": "-G7H_JKQiYXK"
      },
      "source": [
        "## Functions"
      ]
    },
    {
      "cell_type": "code",
      "metadata": {
        "id": "5NJgsP7tiYXK"
      },
      "source": [
        "def add_2(x):\n",
        "    ret = x + 2\n",
        "    return ret"
      ],
      "execution_count": null,
      "outputs": []
    },
    {
      "cell_type": "code",
      "metadata": {
        "id": "1uQ71kJUiYXK",
        "colab": {
          "base_uri": "https://localhost:8080/"
        },
        "outputId": "0e6a724a-1f94-474a-f951-488fd5342bd8"
      },
      "source": [
        "add_2(5)"
      ],
      "execution_count": null,
      "outputs": [
        {
          "output_type": "execute_result",
          "data": {
            "text/plain": [
              "7"
            ]
          },
          "metadata": {},
          "execution_count": 32
        }
      ]
    },
    {
      "cell_type": "code",
      "metadata": {
        "id": "FcaGqlXkiYXL"
      },
      "source": [
        "def is_odd(x):\n",
        "    print (\"*\" * x)\n",
        "    return (x % 2) == 1"
      ],
      "execution_count": null,
      "outputs": []
    },
    {
      "cell_type": "code",
      "metadata": {
        "id": "ZcV1cT-xiYXL",
        "colab": {
          "base_uri": "https://localhost:8080/"
        },
        "outputId": "4501d6fe-f157-4f5b-fbcf-dede316c9847"
      },
      "source": [
        "is_odd(25)"
      ],
      "execution_count": null,
      "outputs": [
        {
          "output_type": "stream",
          "text": [
            "*************************\n"
          ],
          "name": "stdout"
        },
        {
          "output_type": "execute_result",
          "data": {
            "text/plain": [
              "True"
            ]
          },
          "metadata": {},
          "execution_count": 34
        }
      ]
    },
    {
      "cell_type": "code",
      "metadata": {
        "id": "-PIQlu2NiYXL",
        "colab": {
          "base_uri": "https://localhost:8080/"
        },
        "outputId": "a5930f1f-344e-4d88-a756-448f94f1a896"
      },
      "source": [
        "is_odd(8)"
      ],
      "execution_count": null,
      "outputs": [
        {
          "output_type": "stream",
          "text": [
            "********\n"
          ],
          "name": "stdout"
        },
        {
          "output_type": "execute_result",
          "data": {
            "text/plain": [
              "False"
            ]
          },
          "metadata": {},
          "execution_count": 35
        }
      ]
    },
    {
      "cell_type": "code",
      "metadata": {
        "id": "oqb-UzEMiYXL"
      },
      "source": [
        "def spell(n):\n",
        "    units = { 0: \"zero\", 1: \"one\", 2: \"two\", 3: \"three\", 4: \"four\", 5: \"five\", 6: \"six\", 7: \"seven\", 8: \"eight\", 9: \"nine\"}\n",
        "    return units[n]"
      ],
      "execution_count": null,
      "outputs": []
    },
    {
      "cell_type": "code",
      "metadata": {
        "id": "Q1P-SlfLiYXL",
        "colab": {
          "base_uri": "https://localhost:8080/",
          "height": 35
        },
        "outputId": "5756871b-e368-43a8-e679-4e8b1deceb56"
      },
      "source": [
        "spell(6)"
      ],
      "execution_count": null,
      "outputs": [
        {
          "output_type": "execute_result",
          "data": {
            "application/vnd.google.colaboratory.intrinsic+json": {
              "type": "string"
            },
            "text/plain": [
              "'six'"
            ]
          },
          "metadata": {},
          "execution_count": 37
        }
      ]
    },
    {
      "cell_type": "code",
      "metadata": {
        "id": "O5Mblmh_iYXL"
      },
      "source": [
        "def add_2_spell(n):\n",
        "    result = add_2(n)\n",
        "    return spell(result)"
      ],
      "execution_count": null,
      "outputs": []
    },
    {
      "cell_type": "code",
      "metadata": {
        "id": "gvtgkfL4iYXL"
      },
      "source": [
        "add_2_spell(4)"
      ],
      "execution_count": null,
      "outputs": []
    },
    {
      "cell_type": "markdown",
      "metadata": {
        "id": "UVSCx8NDiYXL"
      },
      "source": [
        "## Dictionaries"
      ]
    },
    {
      "cell_type": "code",
      "metadata": {
        "id": "MmtqB4ZbiYXL"
      },
      "source": [
        "m = { 'a': 1, 'b': 2 }"
      ],
      "execution_count": null,
      "outputs": []
    },
    {
      "cell_type": "code",
      "metadata": {
        "id": "HJ1yyMXSiYXL",
        "colab": {
          "base_uri": "https://localhost:8080/"
        },
        "outputId": "14f103ae-09fa-486e-ab2b-8826629d42f9"
      },
      "source": [
        "m.keys()"
      ],
      "execution_count": null,
      "outputs": [
        {
          "output_type": "execute_result",
          "data": {
            "text/plain": [
              "dict_keys(['a', 'b'])"
            ]
          },
          "metadata": {},
          "execution_count": 154
        }
      ]
    },
    {
      "cell_type": "code",
      "metadata": {
        "id": "-7RAeh5ViYXL",
        "colab": {
          "base_uri": "https://localhost:8080/"
        },
        "outputId": "0b0d240c-5421-48f7-afe4-935d713f3973"
      },
      "source": [
        "m.values()"
      ],
      "execution_count": null,
      "outputs": [
        {
          "output_type": "execute_result",
          "data": {
            "text/plain": [
              "dict_values([1, 2])"
            ]
          },
          "metadata": {},
          "execution_count": 108
        }
      ]
    },
    {
      "cell_type": "code",
      "metadata": {
        "id": "q9gonmbLiYXL",
        "colab": {
          "base_uri": "https://localhost:8080/"
        },
        "outputId": "7be193f7-f147-4b59-82a8-b4c0c7dbfadf"
      },
      "source": [
        "m['a']"
      ],
      "execution_count": null,
      "outputs": [
        {
          "output_type": "execute_result",
          "data": {
            "text/plain": [
              "1"
            ]
          },
          "metadata": {},
          "execution_count": 109
        }
      ]
    },
    {
      "cell_type": "code",
      "metadata": {
        "id": "xMjmNsqyiYXL",
        "colab": {
          "base_uri": "https://localhost:8080/",
          "height": 166
        },
        "outputId": "85a17bca-7ef3-4202-b162-ed2c3b093bf5"
      },
      "source": [
        "m['c']"
      ],
      "execution_count": null,
      "outputs": [
        {
          "output_type": "error",
          "ename": "KeyError",
          "evalue": "ignored",
          "traceback": [
            "\u001b[0;31m---------------------------------------------------------------------------\u001b[0m",
            "\u001b[0;31mKeyError\u001b[0m                                  Traceback (most recent call last)",
            "\u001b[0;32m<ipython-input-134-5a706ec2f9fd>\u001b[0m in \u001b[0;36m<module>\u001b[0;34m()\u001b[0m\n\u001b[0;32m----> 1\u001b[0;31m \u001b[0mm\u001b[0m\u001b[0;34m[\u001b[0m\u001b[0;34m'c'\u001b[0m\u001b[0;34m]\u001b[0m\u001b[0;34m\u001b[0m\u001b[0;34m\u001b[0m\u001b[0m\n\u001b[0m",
            "\u001b[0;31mKeyError\u001b[0m: 'c'"
          ]
        }
      ]
    },
    {
      "cell_type": "code",
      "metadata": {
        "id": "PwXqUNGQiYXM",
        "colab": {
          "base_uri": "https://localhost:8080/"
        },
        "outputId": "5af1cb9e-e9d4-4c9e-a664-97a2dd968289"
      },
      "source": [
        "m.get('c', 0)"
      ],
      "execution_count": null,
      "outputs": [
        {
          "output_type": "execute_result",
          "data": {
            "text/plain": [
              "0"
            ]
          },
          "metadata": {},
          "execution_count": 152
        }
      ]
    },
    {
      "cell_type": "code",
      "metadata": {
        "id": "Cvr3E4pWiYXM"
      },
      "source": [
        "m = dict( [(\"a\", 1), (\"b\", 2)] )"
      ],
      "execution_count": null,
      "outputs": []
    },
    {
      "cell_type": "code",
      "metadata": {
        "id": "Z2PtQ2pZiYXM",
        "colab": {
          "base_uri": "https://localhost:8080/"
        },
        "outputId": "fc982c99-f996-4d6c-d9ff-22444ebc9d9c"
      },
      "source": [
        "m"
      ],
      "execution_count": null,
      "outputs": [
        {
          "output_type": "execute_result",
          "data": {
            "text/plain": [
              "{0: 'a', 1: 'a', 2: 'a', 3: 'a', 4: 'a', 5: 'a', 6: 'a'}"
            ]
          },
          "metadata": {},
          "execution_count": 150
        }
      ]
    },
    {
      "cell_type": "code",
      "metadata": {
        "id": "af4rAbCeiYXM",
        "colab": {
          "base_uri": "https://localhost:8080/"
        },
        "outputId": "c1bb3fa6-7593-407e-e4c8-32285b1c4c04"
      },
      "source": [
        "l = [ \"a\", \"a\", \"a\" ]\n",
        "l"
      ],
      "execution_count": null,
      "outputs": [
        {
          "output_type": "execute_result",
          "data": {
            "text/plain": [
              "['a', 'a', 'a']"
            ]
          },
          "metadata": {},
          "execution_count": 149
        }
      ]
    },
    {
      "cell_type": "code",
      "metadata": {
        "id": "RIrDpbjTiYXM",
        "colab": {
          "base_uri": "https://localhost:8080/"
        },
        "outputId": "286c107d-f256-42bb-9726-ebab77dfaaa1"
      },
      "source": [
        "list(zip( range(len(l)),l ))"
      ],
      "execution_count": null,
      "outputs": [
        {
          "output_type": "execute_result",
          "data": {
            "text/plain": [
              "[(0, 'a'), (1, 'a'), (2, 'a'), (3, 'a'), (4, 'a'), (5, 'a'), (6, 'a')]"
            ]
          },
          "metadata": {},
          "execution_count": 148
        }
      ]
    },
    {
      "cell_type": "code",
      "metadata": {
        "id": "FnkbgOeNiYXM",
        "colab": {
          "base_uri": "https://localhost:8080/"
        },
        "outputId": "d25201d9-e934-4f10-8c2a-3355a7c3e83c"
      },
      "source": [
        "li = list(range(len(l)))\n",
        "li"
      ],
      "execution_count": null,
      "outputs": [
        {
          "output_type": "execute_result",
          "data": {
            "text/plain": [
              "[0, 1, 2, 3, 4, 5, 6]"
            ]
          },
          "metadata": {},
          "execution_count": 147
        }
      ]
    },
    {
      "cell_type": "code",
      "metadata": {
        "id": "QvRGwnT7iYXM",
        "colab": {
          "base_uri": "https://localhost:8080/"
        },
        "outputId": "02b73126-4775-4da2-a9ef-3a380bec34a7"
      },
      "source": [
        "l"
      ],
      "execution_count": null,
      "outputs": [
        {
          "output_type": "execute_result",
          "data": {
            "text/plain": [
              "['a', 'a', 'a', 'a', 'a', 'a', 'a']"
            ]
          },
          "metadata": {},
          "execution_count": 146
        }
      ]
    },
    {
      "cell_type": "code",
      "metadata": {
        "id": "YSEmu9gPiYXM",
        "colab": {
          "base_uri": "https://localhost:8080/"
        },
        "outputId": "293891cb-a8fe-4822-e284-c2e0323365b9"
      },
      "source": [
        "list(zip(li, l))"
      ],
      "execution_count": null,
      "outputs": [
        {
          "output_type": "execute_result",
          "data": {
            "text/plain": [
              "[(0, 'a'), (1, 'a'), (2, 'a'), (3, 'a'), (4, 'a'), (5, 'a'), (6, 'a')]"
            ]
          },
          "metadata": {},
          "execution_count": 145
        }
      ]
    },
    {
      "cell_type": "code",
      "metadata": {
        "id": "Epy-EBWkiYXM",
        "colab": {
          "base_uri": "https://localhost:8080/"
        },
        "outputId": "56aa3280-9807-4647-9f79-b7b5bd3bf238"
      },
      "source": [
        "m = dict(zip( range(len(l)), l))\n",
        "m"
      ],
      "execution_count": null,
      "outputs": [
        {
          "output_type": "execute_result",
          "data": {
            "text/plain": [
              "{0: 'a', 1: 'a', 2: 'a', 3: 'a', 4: 'a', 5: 'a', 6: 'a'}"
            ]
          },
          "metadata": {},
          "execution_count": 144
        }
      ]
    },
    {
      "cell_type": "code",
      "metadata": {
        "id": "4BaPzDbTiYXM",
        "colab": {
          "base_uri": "https://localhost:8080/"
        },
        "outputId": "280cc8a6-1980-4657-df50-c18f067081d8"
      },
      "source": [
        "for k in m.keys():\n",
        "    print (k, m[k])"
      ],
      "execution_count": null,
      "outputs": [
        {
          "output_type": "stream",
          "text": [
            "a 1\n",
            "b 2\n"
          ],
          "name": "stdout"
        }
      ]
    },
    {
      "cell_type": "code",
      "metadata": {
        "id": "RSEyypNOiYXM",
        "colab": {
          "base_uri": "https://localhost:8080/"
        },
        "outputId": "1815b833-e142-4592-f53e-416243fb5996"
      },
      "source": [
        "for k in m:\n",
        "    print( k, m[k])"
      ],
      "execution_count": null,
      "outputs": [
        {
          "output_type": "stream",
          "text": [
            "a 1\n",
            "b 2\n"
          ],
          "name": "stdout"
        }
      ]
    },
    {
      "cell_type": "code",
      "metadata": {
        "id": "G-qbxcJriYXM",
        "colab": {
          "base_uri": "https://localhost:8080/"
        },
        "outputId": "e34e2321-9cb8-4d8c-fb14-722503a6019e"
      },
      "source": [
        "{ (1,2): \"a\", (1,2,3): \"b\"}"
      ],
      "execution_count": null,
      "outputs": [
        {
          "output_type": "execute_result",
          "data": {
            "text/plain": [
              "{(1, 2): 'a', (1, 2, 3): 'b'}"
            ]
          },
          "metadata": {},
          "execution_count": 141
        }
      ]
    },
    {
      "cell_type": "code",
      "metadata": {
        "id": "mhpIU_2TiYXM",
        "colab": {
          "base_uri": "https://localhost:8080/",
          "height": 166
        },
        "outputId": "fe092917-b39f-492b-d4c0-ede2568be19d"
      },
      "source": [
        "{ [1,2]: \"a\", [1,2,3]: \"b\"}"
      ],
      "execution_count": null,
      "outputs": [
        {
          "output_type": "error",
          "ename": "TypeError",
          "evalue": "ignored",
          "traceback": [
            "\u001b[0;31m---------------------------------------------------------------------------\u001b[0m",
            "\u001b[0;31mTypeError\u001b[0m                                 Traceback (most recent call last)",
            "\u001b[0;32m<ipython-input-140-5e6169145186>\u001b[0m in \u001b[0;36m<module>\u001b[0;34m()\u001b[0m\n\u001b[0;32m----> 1\u001b[0;31m \u001b[0;34m{\u001b[0m \u001b[0;34m[\u001b[0m\u001b[0;36m1\u001b[0m\u001b[0;34m,\u001b[0m\u001b[0;36m2\u001b[0m\u001b[0;34m]\u001b[0m\u001b[0;34m:\u001b[0m \u001b[0;34m\"a\"\u001b[0m\u001b[0;34m,\u001b[0m \u001b[0;34m[\u001b[0m\u001b[0;36m1\u001b[0m\u001b[0;34m,\u001b[0m\u001b[0;36m2\u001b[0m\u001b[0;34m,\u001b[0m\u001b[0;36m3\u001b[0m\u001b[0;34m]\u001b[0m\u001b[0;34m:\u001b[0m \u001b[0;34m\"b\"\u001b[0m\u001b[0;34m}\u001b[0m\u001b[0;34m\u001b[0m\u001b[0;34m\u001b[0m\u001b[0m\n\u001b[0m",
            "\u001b[0;31mTypeError\u001b[0m: unhashable type: 'list'"
          ]
        }
      ]
    },
    {
      "cell_type": "code",
      "metadata": {
        "id": "gb0WZkuliYXM",
        "colab": {
          "base_uri": "https://localhost:8080/"
        },
        "outputId": "33e39125-ca5c-4f2d-f6f2-d9f73921cd2d"
      },
      "source": [
        "list(range(12))"
      ],
      "execution_count": null,
      "outputs": [
        {
          "output_type": "execute_result",
          "data": {
            "text/plain": [
              "[0, 1, 2, 3, 4, 5, 6, 7, 8, 9, 10, 11]"
            ]
          },
          "metadata": {},
          "execution_count": 139
        }
      ]
    },
    {
      "cell_type": "code",
      "metadata": {
        "id": "AUrqoBnYiYXN",
        "colab": {
          "base_uri": "https://localhost:8080/"
        },
        "outputId": "df75a50b-2564-47bc-f6d5-e90f4ec30d83"
      },
      "source": [
        "l = [\"a\"] * 7\n",
        "l"
      ],
      "execution_count": null,
      "outputs": [
        {
          "output_type": "execute_result",
          "data": {
            "text/plain": [
              "['a', 'a', 'a', 'a', 'a', 'a', 'a']"
            ]
          },
          "metadata": {},
          "execution_count": 138
        }
      ]
    },
    {
      "cell_type": "code",
      "metadata": {
        "id": "khDj0KsMiYXN",
        "colab": {
          "base_uri": "https://localhost:8080/"
        },
        "outputId": "a361e1ef-db75-4b34-f0e4-06dca3cdf4e4"
      },
      "source": [
        "li = list(range(7))\n",
        "li"
      ],
      "execution_count": null,
      "outputs": [
        {
          "output_type": "execute_result",
          "data": {
            "text/plain": [
              "[0, 1, 2, 3, 4, 5, 6]"
            ]
          },
          "metadata": {},
          "execution_count": 137
        }
      ]
    },
    {
      "cell_type": "code",
      "metadata": {
        "id": "hkQ6v5XYiYXN",
        "colab": {
          "base_uri": "https://localhost:8080/"
        },
        "outputId": "2fde81b8-9062-474b-a42a-0894872ebf9b"
      },
      "source": [
        "list(zip(li,l))"
      ],
      "execution_count": null,
      "outputs": [
        {
          "output_type": "execute_result",
          "data": {
            "text/plain": [
              "[(0, 'a'), (1, 'a'), (2, 'a'), (3, 'a'), (4, 'a'), (5, 'a'), (6, 'a')]"
            ]
          },
          "metadata": {},
          "execution_count": 136
        }
      ]
    },
    {
      "cell_type": "code",
      "metadata": {
        "id": "eXbqJqFfiYXN",
        "colab": {
          "base_uri": "https://localhost:8080/"
        },
        "outputId": "477cfb59-6dda-4813-8bf1-b27a5a5af02f"
      },
      "source": [
        "len(l)"
      ],
      "execution_count": null,
      "outputs": [
        {
          "output_type": "execute_result",
          "data": {
            "text/plain": [
              "7"
            ]
          },
          "metadata": {},
          "execution_count": 135
        }
      ]
    },
    {
      "cell_type": "markdown",
      "metadata": {
        "id": "HFkMkJmwiYXO"
      },
      "source": [
        "---\n",
        "## Exercise 1 - Easy"
      ]
    },
    {
      "cell_type": "markdown",
      "metadata": {
        "id": "cW07DSq0iYXO"
      },
      "source": [
        "Create a function that counts the occurences on a list\n",
        "\n",
        "Eg.\n",
        "count( [1, 2, 3, 4, 1, 2, 1] )\n",
        "\n",
        "{ 1: 3, 2: 2, 3: 1, 4: 1 }"
      ]
    },
    {
      "cell_type": "markdown",
      "metadata": {
        "id": "2qTMZguZld2D"
      },
      "source": [
        "**NOTE - Exercise 1 \"Count Number frequency\"**\n",
        "\n",
        "Dictionary - { }\n",
        "\n",
        "List - [ ]\n",
        "\n",
        "append - for list"
      ]
    },
    {
      "cell_type": "code",
      "metadata": {
        "id": "O2Z1BAVknci2"
      },
      "source": [
        "def countnum(list):\n",
        "    countlist = {}\n",
        "    x = []\n",
        "    for i in list:\n",
        "        if i in x:\n",
        "          countlist[i] = int(countlist[i]) + 1\n",
        "        else:\n",
        "          countlist[i] = 1\n",
        "          x.append(i)\n",
        "    return countlist"
      ],
      "execution_count": null,
      "outputs": []
    },
    {
      "cell_type": "code",
      "metadata": {
        "colab": {
          "base_uri": "https://localhost:8080/"
        },
        "id": "Y64X4eSYp6ZM",
        "outputId": "de3a1218-f83a-4f27-9b91-e9f5785b647a"
      },
      "source": [
        "countnum([1, 2, 3, 4, 1, 2, 1])"
      ],
      "execution_count": null,
      "outputs": [
        {
          "output_type": "execute_result",
          "data": {
            "text/plain": [
              "{1: 3, 2: 2, 3: 1, 4: 1}"
            ]
          },
          "metadata": {},
          "execution_count": 98
        }
      ]
    },
    {
      "cell_type": "code",
      "metadata": {
        "id": "ovxtHDuODIQP"
      },
      "source": [
        "def countnum(list):\n",
        "    countlist = {}\n",
        "    for i in list:\n",
        "          countlist[i] = countlist.get(i,0) + 1 \n",
        "    return countlist"
      ],
      "execution_count": null,
      "outputs": []
    },
    {
      "cell_type": "markdown",
      "metadata": {
        "id": "MNlRFkPP8pqr"
      },
      "source": [
        "**NOTE:**\n",
        "*   Not yet able to get rid of the space after the colon \":\".\n",
        "\n"
      ]
    },
    {
      "cell_type": "code",
      "metadata": {
        "colab": {
          "base_uri": "https://localhost:8080/"
        },
        "id": "z4wV_Awo8K6u",
        "outputId": "7a48e940-0236-40de-ec53-6e2d98b211bf"
      },
      "source": [
        "countnum([1,2,3,5,8,9,2,3,5,7,8,65,4,6,5,6,7,8])"
      ],
      "execution_count": null,
      "outputs": [
        {
          "output_type": "execute_result",
          "data": {
            "text/plain": [
              "{1: 1, 2: 2, 3: 2, 4: 1, 5: 3, 6: 2, 7: 2, 8: 3, 9: 1, 65: 1}"
            ]
          },
          "metadata": {},
          "execution_count": 333
        }
      ]
    },
    {
      "cell_type": "markdown",
      "metadata": {
        "id": "RBD6TTBCiYXO"
      },
      "source": [
        "## Exercise 2 - Intermediate"
      ]
    },
    {
      "cell_type": "markdown",
      "metadata": {
        "id": "No4NyfbZiYXO"
      },
      "source": [
        "\n",
        "Create a function that prints with \"*\" a christmas tree of a given height\n",
        "\n",
        "Eg.\n",
        "xmas_tree(7)\n",
        "\n",
        "       *\n",
        "      ***\n",
        "     *****\n",
        "    *******\n",
        "   *********\n",
        "  ***********\n",
        " *************\n",
        "       *\n",
        "      ***\n",
        "\n",
        "xmas_tree(4)\n",
        "        \n",
        "    *\n",
        "   ***\n",
        "  *****\n",
        " *******\n",
        "    *\n",
        "   ***\n",
        "\n"
      ]
    },
    {
      "cell_type": "markdown",
      "metadata": {
        "id": "y7M6zssiAr8E"
      },
      "source": [
        ""
      ]
    },
    {
      "cell_type": "markdown",
      "metadata": {
        "id": "lx5uw6eA9r9E"
      },
      "source": [
        "**NOTE - Exercise 2 \"Xmas Tree**\n",
        "\n",
        "Height = H\n",
        "\n",
        "Upper part:\n",
        "\n",
        "  For h = 0, skip upper part but keep lower part\n",
        "\n",
        "  For h-th layer (1 to H),\n",
        "\n",
        "    Number of space at h-th layer = H-h\n",
        "    Length of h-th layer = 2h-1\n",
        "\n",
        "Lower part:\n",
        "\n",
        "  For l-th layer (1 to 2),\n",
        "\n",
        "    Number of space at l-th layer = H-1\n",
        "    Lenght of l-th layer = 2l-1\n",
        "\n",
        "** END **"
      ]
    },
    {
      "cell_type": "code",
      "metadata": {
        "id": "cV3zT_lra9-5"
      },
      "source": [
        "def prnspace(H):\n",
        "    for i in range(H):\n",
        "        print(' ',end=\"\")\n",
        "    return"
      ],
      "execution_count": null,
      "outputs": []
    },
    {
      "cell_type": "code",
      "metadata": {
        "colab": {
          "base_uri": "https://localhost:8080/"
        },
        "id": "n8WMQlIhcXLz",
        "outputId": "c3924ce1-d997-4a5b-bae7-9793eaadf0b7"
      },
      "source": [
        "prnspace(8)"
      ],
      "execution_count": null,
      "outputs": [
        {
          "output_type": "stream",
          "text": [
            "        "
          ],
          "name": "stdout"
        }
      ]
    },
    {
      "cell_type": "code",
      "metadata": {
        "id": "A_YdXbpEeIfs"
      },
      "source": [
        "def prnleaf(H):\n",
        "    for i in range(H):\n",
        "        print('*',end=\"\")\n",
        "    return"
      ],
      "execution_count": null,
      "outputs": []
    },
    {
      "cell_type": "code",
      "metadata": {
        "colab": {
          "base_uri": "https://localhost:8080/"
        },
        "id": "mcesgzswfaIl",
        "outputId": "b7c6d8aa-9596-476a-92d6-1fdd3c929bd1"
      },
      "source": [
        "prnleaf(8)"
      ],
      "execution_count": null,
      "outputs": [
        {
          "output_type": "stream",
          "text": [
            "********"
          ],
          "name": "stdout"
        }
      ]
    },
    {
      "cell_type": "code",
      "metadata": {
        "colab": {
          "base_uri": "https://localhost:8080/"
        },
        "id": "6qoEKRkWeZLR",
        "outputId": "81602097-969b-4b3c-c7bf-71a1cc4bc0ec"
      },
      "source": [
        "prnleaf(2)"
      ],
      "execution_count": null,
      "outputs": [
        {
          "output_type": "stream",
          "text": [
            "**"
          ],
          "name": "stdout"
        }
      ]
    },
    {
      "cell_type": "code",
      "metadata": {
        "id": "azvORWHcejwS"
      },
      "source": [
        "def prntree(H):\n",
        "    #upper part\"\n",
        "    for i in range(H):\n",
        "        prnspace(H-i)\n",
        "        prnleaf(2*i-1)\n",
        "        print()\n",
        "    return"
      ],
      "execution_count": null,
      "outputs": []
    },
    {
      "cell_type": "code",
      "metadata": {
        "colab": {
          "base_uri": "https://localhost:8080/"
        },
        "id": "kEH13rjKg9uO",
        "outputId": "f7ae97a4-fd63-45ff-8e97-0372dadf0bde"
      },
      "source": [
        "prntree(8)"
      ],
      "execution_count": null,
      "outputs": [
        {
          "output_type": "stream",
          "text": [
            "        \n",
            "       *\n",
            "      ***\n",
            "     *****\n",
            "    *******\n",
            "   *********\n",
            "  ***********\n",
            " *************\n"
          ],
          "name": "stdout"
        }
      ]
    },
    {
      "cell_type": "code",
      "metadata": {
        "id": "N-YDqMqDkEc7"
      },
      "source": [
        "def prntree(H):\n",
        "    #upper part\"\n",
        "    for i in range(H):\n",
        "        print()\n",
        "        prnspace(H-i)\n",
        "        prnleaf(2*i-1)\n",
        "    #lower part#\n",
        "    for i in range(3):\n",
        "        prnspace(H-i)\n",
        "        prnleaf(2*i-1)\n",
        "        print()\n",
        "    return"
      ],
      "execution_count": null,
      "outputs": []
    },
    {
      "cell_type": "code",
      "metadata": {
        "colab": {
          "base_uri": "https://localhost:8080/"
        },
        "id": "7KCviUGnkJHr",
        "outputId": "a8bab04f-2c0f-4b2f-98f1-88da12b955a1"
      },
      "source": [
        "prntree(8)"
      ],
      "execution_count": null,
      "outputs": [
        {
          "output_type": "stream",
          "text": [
            "\n",
            "        \n",
            "       *\n",
            "      ***\n",
            "     *****\n",
            "    *******\n",
            "   *********\n",
            "  ***********\n",
            " *************        \n",
            "       *\n",
            "      ***\n"
          ],
          "name": "stdout"
        }
      ]
    },
    {
      "cell_type": "code",
      "metadata": {
        "id": "0Lc6AYGUhWkr"
      },
      "source": [
        "def prntree(H):\n",
        "    #upper part\"\n",
        "    for i in range(H):\n",
        "        prnspace(H-i)\n",
        "        prnleaf(2*i-1)\n",
        "        if i != H:\n",
        "            print()\n",
        "        else:\n",
        "            print(\" \")\n",
        "    #lower part#\n",
        "    for i in range(3):\n",
        "        prnspace(H-i)\n",
        "        prnleaf(2*i-1)\n",
        "        print()\n",
        "    return"
      ],
      "execution_count": null,
      "outputs": []
    },
    {
      "cell_type": "code",
      "metadata": {
        "colab": {
          "base_uri": "https://localhost:8080/"
        },
        "id": "ZKsjf-PWiY7Z",
        "outputId": "073de272-bbae-45bb-9f4b-87020e28a6a4"
      },
      "source": [
        "prntree(8)"
      ],
      "execution_count": null,
      "outputs": [
        {
          "output_type": "stream",
          "text": [
            "        \n",
            "       *\n",
            "      ***\n",
            "     *****\n",
            "    *******\n",
            "   *********\n",
            "  ***********\n",
            " *************\n",
            "        \n",
            "       *\n",
            "      ***\n"
          ],
          "name": "stdout"
        }
      ]
    },
    {
      "cell_type": "code",
      "metadata": {
        "id": "aHnZcmjw_U8-"
      },
      "source": [
        "# 2021-08-23\n",
        "def prntree(H):\n",
        "    #upper part\n",
        "    #i starts from 0.\n",
        "    for i in range(H):\n",
        "        prnspace(H-i)\n",
        "        prnleaf(2*i+1)\n",
        "        if i < H-1:\n",
        "            print()\n",
        "    #lower part\n",
        "    for i in range(3):\n",
        "        prnspace(H-i+1)\n",
        "        prnleaf(2*i-1)\n",
        "        print()\n",
        "    return"
      ],
      "execution_count": 1,
      "outputs": []
    },
    {
      "cell_type": "code",
      "metadata": {
        "colab": {
          "base_uri": "https://localhost:8080/"
        },
        "id": "W0tUkz7M_Xp9",
        "outputId": "aeb54b6b-7b10-4b7f-a6a9-657cc5a39b86"
      },
      "source": [
        "prntree(8)"
      ],
      "execution_count": null,
      "outputs": [
        {
          "output_type": "stream",
          "text": [
            "        *\n",
            "       ***\n",
            "      *****\n",
            "     *******\n",
            "    *********\n",
            "   ***********\n",
            "  *************\n",
            " ***************         \n",
            "        *\n",
            "       ***\n"
          ],
          "name": "stdout"
        }
      ]
    },
    {
      "cell_type": "markdown",
      "metadata": {
        "id": "sYGZwbRciYXO"
      },
      "source": [
        "## Exercise 3 - Advanced"
      ]
    },
    {
      "cell_type": "markdown",
      "metadata": {
        "id": "jDTw3Z6hiYXP"
      },
      "source": [
        "\n",
        "Create a function that spells number ranging from 1 to 1 Billion\n",
        "\n",
        "spell(1984)\n",
        "'one thousand eighty four'\n",
        "\n",
        "Tips: \n",
        "- split the task into smaller portions using functions\n",
        "- use integer division (`//`) and modulo (`%`)\n",
        "- use \"if-else\"\n"
      ]
    },
    {
      "cell_type": "markdown",
      "metadata": {
        "id": "h8Zv0gxDtMaV"
      },
      "source": [
        "### Exercise 3 (Outdated)"
      ]
    },
    {
      "cell_type": "markdown",
      "metadata": {
        "id": "Lf5smFmIlIYm"
      },
      "source": [
        "**NOTE - Exercise 3**  ***(Outdated)***\n",
        "\n",
        "Part A - 1-digit\n",
        "Part B - 2-digits, tens\n",
        "Part C - 3-digits, hundards\n",
        "Part D - 4-6 digits, thousands\n",
        "Part E - 7-9 digits, millions\n",
        "Part F - 10 digits, billions\n",
        "\n",
        "One sub-function for each part, e.g: \n",
        "*   speak01 = zero to nine\n",
        "*   speak02 = ten to ninety + speak01\n",
        "*   speak03 = hundard to nine hundard + speak02 + speak01\n",
        "*   speak06 = thousand to nine hundard thousand + speak03 + speak02 + speak01\n",
        "*   speak09 = million to nine thousand million + speak06 + speak03 + speak02 + speak01\n",
        "*   speak10 = billion & onward + speak09 +speak06 + speak03 + speak02 + speak01\n",
        "*   final one is composed of multiple functions speaking respective ranges of value*  \n",
        "\n",
        "\n",
        "\n"
      ]
    },
    {
      "cell_type": "code",
      "metadata": {
        "id": "_sv3aGh-tPQ7"
      },
      "source": [
        "def speak02(B):\n",
        "    value02 = {\n",
        "        10: \"ten\", \n",
        "        11: \"eleven\", \n",
        "        12: \"twelve\", \n",
        "        13: \"thirdteen\", \n",
        "        14: \"fourteen\", \n",
        "        15: \"fifteen\", \n",
        "        16: \"sixteen\", \n",
        "        17: \"seventeen\", \n",
        "        18: \"eighteen\", \n",
        "        19: \"nineteen\",\n",
        "        20: \"twenty\",\n",
        "        30: \"thirdty\",\n",
        "        40: \"fourty\",\n",
        "        50: \"fifty\",\n",
        "        60: \"sixty\",\n",
        "        70: \"seventy\",\n",
        "        80: \"eighty\",\n",
        "        90: \"ninty\",\n",
        "        }\n",
        "    return value02[B]"
      ],
      "execution_count": null,
      "outputs": []
    },
    {
      "cell_type": "code",
      "metadata": {
        "id": "lwjqYHq5uMc5"
      },
      "source": [
        "def speak03(C):\n",
        "    if C < 10:\n",
        "        speak01(C)\n",
        "    else 9 < C <100:\n",
        "        A = str(C)\n",
        "        print(speak02())\n",
        "    return"
      ],
      "execution_count": null,
      "outputs": []
    },
    {
      "cell_type": "markdown",
      "metadata": {
        "id": "lgTiZo0dtfXW"
      },
      "source": [
        "### Exercise 3 (Version 2)"
      ]
    },
    {
      "cell_type": "markdown",
      "metadata": {
        "id": "PgXh00gbEP5A"
      },
      "source": [
        "**NOTE - Exercise 3 (Version 2)**\n",
        "\n",
        "Added feature(s):\n",
        "> 1.   Cater numbers with thousands separators ',' or comma\n",
        "\n",
        "Numbers are to be illustrated by different ranges: \n",
        "> * range A = 0 to 20  (unique names up to 20)\n",
        "* range B = 21 to 99  (less than hundred)\n",
        "* range C = 100 to 999  (less than thousand)\n",
        "* range D = 1,000 to 999,999  (less than million)\n",
        "* range E = 1,000,000 to 999,999,999  (less than billion)\n",
        "* range F = 1,000,000,000 and onwards  (billion and onwards)\n",
        "\n",
        "Arithmetic operators (https://www.programiz.com/python-programming/operators)\n",
        "> * //\t= Floor division - division that results into whole number adjusted to the left in the number line\tx // y\n",
        "* %\t= Modulus - remainder of the division of left operand by the right\tx % y (remainder of x/y)\n",
        "\n",
        "Python String Operations (https://www.programiz.com/python-programming/string)\n",
        "> * \"+\" operator => writing two string literals together also concatenates them.\n",
        "* \"*\" operator => repeat the string for a given number of times.\n",
        "\n",
        "How to remove a comma from a string in Python (https://www.kite.com/python/answers/how-to-remove-a-comma-from-a-string-in-python#:~:text=Use%20str.,'%20in%20str%20with%20''%20.)\n",
        "> * s = s.replace(',', '')"
      ]
    },
    {
      "cell_type": "code",
      "metadata": {
        "colab": {
          "base_uri": "https://localhost:8080/"
        },
        "id": "moxoy3LuOQGa",
        "outputId": "e5863a8a-8223-47de-f5a3-bfb955ff7717"
      },
      "source": [
        "21//10"
      ],
      "execution_count": 101,
      "outputs": [
        {
          "output_type": "execute_result",
          "data": {
            "text/plain": [
              "2"
            ]
          },
          "metadata": {},
          "execution_count": 101
        }
      ]
    },
    {
      "cell_type": "code",
      "metadata": {
        "colab": {
          "base_uri": "https://localhost:8080/"
        },
        "id": "chnTrqIKM603",
        "outputId": "a0020f06-4e88-43ef-9625-7ffe9c675601"
      },
      "source": [
        "21%10"
      ],
      "execution_count": 102,
      "outputs": [
        {
          "output_type": "execute_result",
          "data": {
            "text/plain": [
              "1"
            ]
          },
          "metadata": {},
          "execution_count": 102
        }
      ]
    },
    {
      "cell_type": "code",
      "metadata": {
        "colab": {
          "base_uri": "https://localhost:8080/"
        },
        "id": "YS90p6glQYq6",
        "outputId": "c163a4ef-71cc-428d-adb3-3e282b8b5012"
      },
      "source": [
        "222%100"
      ],
      "execution_count": 103,
      "outputs": [
        {
          "output_type": "execute_result",
          "data": {
            "text/plain": [
              "22"
            ]
          },
          "metadata": {},
          "execution_count": 103
        }
      ]
    },
    {
      "cell_type": "code",
      "metadata": {
        "id": "-ak74qZ8knAJ"
      },
      "source": [
        "# range A = 0 to 20 (unique names up to 20)\n",
        "def spellnum(number):\n",
        "    n = {\n",
        "        0: \"zero\", \n",
        "        1: \"one\", \n",
        "        2: \"two\", \n",
        "        3: \"three\", \n",
        "        4: \"four\", \n",
        "        5: \"five\", \n",
        "        6: \"six\", \n",
        "        7: \"seven\", \n",
        "        8: \"eight\", \n",
        "        9: \"nine\",\n",
        "        10: \"ten\", \n",
        "        11: \"eleven\", \n",
        "        12: \"twelve\", \n",
        "        13: \"thirdteen\", \n",
        "        14: \"fourteen\", \n",
        "        15: \"fifteen\", \n",
        "        16: \"sixteen\", \n",
        "        17: \"seventeen\", \n",
        "        18: \"eighteen\", \n",
        "        19: \"nineteen\",\n",
        "        20: \"twenty\",\n",
        "        30: \"thirdty\",\n",
        "        40: \"fourty\",\n",
        "        50: \"fifty\",\n",
        "        60: \"sixty\",\n",
        "        70: \"seventy\",\n",
        "        80: \"eighty\",\n",
        "        90: \"ninty\",\n",
        "        }\n",
        "    return n[number]"
      ],
      "execution_count": 104,
      "outputs": []
    },
    {
      "cell_type": "code",
      "metadata": {
        "colab": {
          "base_uri": "https://localhost:8080/",
          "height": 35
        },
        "id": "tphVXEAEykrQ",
        "outputId": "c86e1308-1036-4927-8410-914341e8425d"
      },
      "source": [
        "spellnum(9)"
      ],
      "execution_count": 105,
      "outputs": [
        {
          "output_type": "execute_result",
          "data": {
            "application/vnd.google.colaboratory.intrinsic+json": {
              "type": "string"
            },
            "text/plain": [
              "'nine'"
            ]
          },
          "metadata": {},
          "execution_count": 105
        }
      ]
    },
    {
      "cell_type": "code",
      "metadata": {
        "colab": {
          "base_uri": "https://localhost:8080/",
          "height": 35
        },
        "id": "jkCNmfacInio",
        "outputId": "3bc7798d-568a-47ea-fea0-347f0e96af38"
      },
      "source": [
        "spellnum(90)"
      ],
      "execution_count": 106,
      "outputs": [
        {
          "output_type": "execute_result",
          "data": {
            "application/vnd.google.colaboratory.intrinsic+json": {
              "type": "string"
            },
            "text/plain": [
              "'ninty'"
            ]
          },
          "metadata": {},
          "execution_count": 106
        }
      ]
    },
    {
      "cell_type": "code",
      "metadata": {
        "id": "LxJpY9VnItw_"
      },
      "source": [
        "# Exercise 3 - Version 2\n",
        "def spellnum(number):\n",
        "    \n",
        "    # remove comma ',' from a number\n",
        "    if str(number).find(','):\n",
        "       number = str(number).replace(',','')\n",
        "    number = int(number)  # regardless of numeric/string inpu, convert to integer\n",
        "    \n",
        "    # 0 to 20 unique numbers\n",
        "    n = { 0: \"zero\", 1: \"one\", 2: \"two\", 3: \"three\", 4: \"four\", 5: \"five\", 6: \"six\", 7: \"seven\", 8: \"eight\", 9: \"nine\", 10: \"ten\", \n",
        "          11: \"eleven\", 12: \"twelve\", 13: \"thirdteen\", 14: \"fourteen\", 15: \"fifteen\", \n",
        "          16: \"sixteen\", 17: \"seventeen\", 18: \"eighteen\", 19: \"nineteen\", \n",
        "          20: \"twenty\", 30: \"thirdty\", 40: \"fourty\", 50: \"fifty\", 60: \"sixty\", 70: \"seventy\", 80: \"eighty\", 90: \"ninty\" }\n",
        "    \n",
        "    # range A = 0 to 20 (unique names up to 20)\n",
        "    if (number < 21):\n",
        "        return n[number]\n",
        "    \n",
        "    # range B = 21 to 99 (less than hundred)\n",
        "    if (number < 100):\n",
        "        if number % 10 == 0: return n[number]\n",
        "        else: return n[number // 10 * 10] + '-' + n[number % 10]\n",
        "\n",
        "    # range C = 100 to 999 (less than thousand)\n",
        "    if (number < 1000):\n",
        "        if number % 100 == 0: return n[number // 100] + ' hundred'\n",
        "        else: return n[number // 100] + ' hundred ' + spellnum(number % 100)\n",
        "\n",
        "    # range D = 1,000 to 999,999 (less than million)\n",
        "    if (number < 1000000):\n",
        "        if number % 1000 == 0: return spellnum(number // 1000) + ' thousand'\n",
        "        else: return spellnum(number // 1000) + ' thousand and ' + spellnum(number % 1000)\n",
        "\n",
        "    # range E = 1,000,000 to 999,999,999 (less than billion)\n",
        "    if (number < 1000000000):\n",
        "        if number % 1000000 == 0: return spellnum(number // 1000000) + ' million'\n",
        "        else: return spellnum(number // 1000000) + ' million, ' + spellnum(number % 1000000)\n",
        "\n",
        "    # range F = 1,000,000,000 and onwards (billion and onwards)\n",
        "    if number % 1000000000 == 0: return spellnum(number // 1000000000) + ' billion'\n",
        "    else: return spellnum(number // 1000000000) + ' billion, ' + spellnum(number % 1000000000)\n",
        "\n",
        "    # REMARKS :\n",
        "    # Upper limite of this function is trillion. How to restrict/cater input beyond this upper limit?"
      ],
      "execution_count": 107,
      "outputs": []
    },
    {
      "cell_type": "code",
      "metadata": {
        "colab": {
          "base_uri": "https://localhost:8080/",
          "height": 35
        },
        "id": "GZ6IFmplJJ_V",
        "outputId": "c4233bd7-34fa-4bdc-8fc9-c36c1441f4a7"
      },
      "source": [
        "spellnum(80)"
      ],
      "execution_count": 108,
      "outputs": [
        {
          "output_type": "execute_result",
          "data": {
            "application/vnd.google.colaboratory.intrinsic+json": {
              "type": "string"
            },
            "text/plain": [
              "'eighty'"
            ]
          },
          "metadata": {},
          "execution_count": 108
        }
      ]
    },
    {
      "cell_type": "code",
      "metadata": {
        "colab": {
          "base_uri": "https://localhost:8080/",
          "height": 35
        },
        "id": "Nz6kEYPaNRut",
        "outputId": "97ee7e41-b77c-47aa-c0fd-a477436e8523"
      },
      "source": [
        "spellnum(81)"
      ],
      "execution_count": 109,
      "outputs": [
        {
          "output_type": "execute_result",
          "data": {
            "application/vnd.google.colaboratory.intrinsic+json": {
              "type": "string"
            },
            "text/plain": [
              "'eighty-one'"
            ]
          },
          "metadata": {},
          "execution_count": 109
        }
      ]
    },
    {
      "cell_type": "code",
      "metadata": {
        "colab": {
          "base_uri": "https://localhost:8080/",
          "height": 35
        },
        "id": "nnTD4kgyPcwG",
        "outputId": "8efe1a83-abb2-46dd-eb6c-c446277692dc"
      },
      "source": [
        "spellnum(100)"
      ],
      "execution_count": 110,
      "outputs": [
        {
          "output_type": "execute_result",
          "data": {
            "application/vnd.google.colaboratory.intrinsic+json": {
              "type": "string"
            },
            "text/plain": [
              "'one hundred'"
            ]
          },
          "metadata": {},
          "execution_count": 110
        }
      ]
    },
    {
      "cell_type": "code",
      "metadata": {
        "colab": {
          "base_uri": "https://localhost:8080/",
          "height": 35
        },
        "id": "tnG0OuuTR0rn",
        "outputId": "f648ef50-ddd9-4f08-d8be-1cb0dd736f62"
      },
      "source": [
        "spellnum(120)"
      ],
      "execution_count": 111,
      "outputs": [
        {
          "output_type": "execute_result",
          "data": {
            "application/vnd.google.colaboratory.intrinsic+json": {
              "type": "string"
            },
            "text/plain": [
              "'one hundred twenty'"
            ]
          },
          "metadata": {},
          "execution_count": 111
        }
      ]
    },
    {
      "cell_type": "code",
      "metadata": {
        "colab": {
          "base_uri": "https://localhost:8080/",
          "height": 35
        },
        "id": "3N4sEFsmT4ng",
        "outputId": "82972849-ba92-40c6-bb69-d4fc1a41f272"
      },
      "source": [
        "spellnum(900000)"
      ],
      "execution_count": 112,
      "outputs": [
        {
          "output_type": "execute_result",
          "data": {
            "application/vnd.google.colaboratory.intrinsic+json": {
              "type": "string"
            },
            "text/plain": [
              "'nine hundred thousand'"
            ]
          },
          "metadata": {},
          "execution_count": 112
        }
      ]
    },
    {
      "cell_type": "code",
      "metadata": {
        "colab": {
          "base_uri": "https://localhost:8080/"
        },
        "id": "yEeMEPXDUXb2",
        "outputId": "6bb10ede-0112-4782-fc0b-5064d4fd6f27"
      },
      "source": [
        "999000%1000"
      ],
      "execution_count": 113,
      "outputs": [
        {
          "output_type": "execute_result",
          "data": {
            "text/plain": [
              "0"
            ]
          },
          "metadata": {},
          "execution_count": 113
        }
      ]
    },
    {
      "cell_type": "code",
      "metadata": {
        "colab": {
          "base_uri": "https://localhost:8080/"
        },
        "id": "c6DYW_m9UtVQ",
        "outputId": "df90fb25-e60e-4e09-8bbb-2bb405457b1c"
      },
      "source": [
        "999000//1000"
      ],
      "execution_count": 114,
      "outputs": [
        {
          "output_type": "execute_result",
          "data": {
            "text/plain": [
              "999"
            ]
          },
          "metadata": {},
          "execution_count": 114
        }
      ]
    },
    {
      "cell_type": "code",
      "metadata": {
        "colab": {
          "base_uri": "https://localhost:8080/"
        },
        "id": "F0gGmPjamLpU",
        "outputId": "61a3c58d-425f-4a99-ed5d-628a28bdd1b1"
      },
      "source": [
        "100999%1000"
      ],
      "execution_count": 115,
      "outputs": [
        {
          "output_type": "execute_result",
          "data": {
            "text/plain": [
              "999"
            ]
          },
          "metadata": {},
          "execution_count": 115
        }
      ]
    },
    {
      "cell_type": "code",
      "metadata": {
        "colab": {
          "base_uri": "https://localhost:8080/",
          "height": 35
        },
        "id": "6Ri4ikSwUyaT",
        "outputId": "a775b406-9199-466f-e7a7-868c4fe40e4c"
      },
      "source": [
        "spellnum(999999)"
      ],
      "execution_count": 116,
      "outputs": [
        {
          "output_type": "execute_result",
          "data": {
            "application/vnd.google.colaboratory.intrinsic+json": {
              "type": "string"
            },
            "text/plain": [
              "'nine hundred ninty-nine thousand and nine hundred ninty-nine'"
            ]
          },
          "metadata": {},
          "execution_count": 116
        }
      ]
    },
    {
      "cell_type": "code",
      "metadata": {
        "colab": {
          "base_uri": "https://localhost:8080/",
          "height": 35
        },
        "id": "vM4OhU6chl61",
        "outputId": "667fcf15-dd36-4693-9480-94c0b63819d1"
      },
      "source": [
        "spellnum(900000000)"
      ],
      "execution_count": 117,
      "outputs": [
        {
          "output_type": "execute_result",
          "data": {
            "application/vnd.google.colaboratory.intrinsic+json": {
              "type": "string"
            },
            "text/plain": [
              "'nine hundred million'"
            ]
          },
          "metadata": {},
          "execution_count": 117
        }
      ]
    },
    {
      "cell_type": "code",
      "metadata": {
        "colab": {
          "base_uri": "https://localhost:8080/",
          "height": 35
        },
        "id": "PK7FpiIZiLtq",
        "outputId": "1e173b3d-2d00-4402-cb0e-d33ca1c5be68"
      },
      "source": [
        "spellnum(999999999)"
      ],
      "execution_count": 118,
      "outputs": [
        {
          "output_type": "execute_result",
          "data": {
            "application/vnd.google.colaboratory.intrinsic+json": {
              "type": "string"
            },
            "text/plain": [
              "'nine hundred ninty-nine million, nine hundred ninty-nine thousand and nine hundred ninty-nine'"
            ]
          },
          "metadata": {},
          "execution_count": 118
        }
      ]
    },
    {
      "cell_type": "code",
      "metadata": {
        "colab": {
          "base_uri": "https://localhost:8080/",
          "height": 35
        },
        "id": "hCRSX4Z8lEJ0",
        "outputId": "38abf4db-05d7-4ccd-a6cf-6d8d8b9ec16a"
      },
      "source": [
        "spellnum(1000000000)"
      ],
      "execution_count": 119,
      "outputs": [
        {
          "output_type": "execute_result",
          "data": {
            "application/vnd.google.colaboratory.intrinsic+json": {
              "type": "string"
            },
            "text/plain": [
              "'one billion'"
            ]
          },
          "metadata": {},
          "execution_count": 119
        }
      ]
    },
    {
      "cell_type": "code",
      "metadata": {
        "colab": {
          "base_uri": "https://localhost:8080/",
          "height": 35
        },
        "id": "eWn-c8kHll-X",
        "outputId": "0e25aaa9-dedc-4df5-d2d4-5f90cfb1e505"
      },
      "source": [
        "spellnum(9999999999)"
      ],
      "execution_count": 120,
      "outputs": [
        {
          "output_type": "execute_result",
          "data": {
            "application/vnd.google.colaboratory.intrinsic+json": {
              "type": "string"
            },
            "text/plain": [
              "'nine billion, nine hundred ninty-nine million, nine hundred ninty-nine thousand and nine hundred ninty-nine'"
            ]
          },
          "metadata": {},
          "execution_count": 120
        }
      ]
    },
    {
      "cell_type": "code",
      "metadata": {
        "colab": {
          "base_uri": "https://localhost:8080/",
          "height": 35
        },
        "id": "aYlOJWz7oBpQ",
        "outputId": "d82e9f1d-d67a-4a1a-895a-872bda57c531"
      },
      "source": [
        "spellnum(999999999999)"
      ],
      "execution_count": 121,
      "outputs": [
        {
          "output_type": "execute_result",
          "data": {
            "application/vnd.google.colaboratory.intrinsic+json": {
              "type": "string"
            },
            "text/plain": [
              "'nine hundred ninty-nine billion, nine hundred ninty-nine million, nine hundred ninty-nine thousand and nine hundred ninty-nine'"
            ]
          },
          "metadata": {},
          "execution_count": 121
        }
      ]
    },
    {
      "cell_type": "code",
      "metadata": {
        "colab": {
          "base_uri": "https://localhost:8080/",
          "height": 35
        },
        "id": "uQluMdluxG8b",
        "outputId": "666e4090-7b4e-4cd4-9a9f-a8f2a84d1e4d"
      },
      "source": [
        "spellnum('999,999,999,999')"
      ],
      "execution_count": 122,
      "outputs": [
        {
          "output_type": "execute_result",
          "data": {
            "application/vnd.google.colaboratory.intrinsic+json": {
              "type": "string"
            },
            "text/plain": [
              "'nine hundred ninty-nine billion, nine hundred ninty-nine million, nine hundred ninty-nine thousand and nine hundred ninty-nine'"
            ]
          },
          "metadata": {},
          "execution_count": 122
        }
      ]
    },
    {
      "cell_type": "code",
      "metadata": {
        "colab": {
          "base_uri": "https://localhost:8080/"
        },
        "id": "lSNMSXMPsopW",
        "outputId": "2971728e-3fe5-47fc-99ce-8be6639708c9"
      },
      "source": [
        "number = str('1,000')\n",
        "number = number.strip(',')\n",
        "print(number)"
      ],
      "execution_count": 123,
      "outputs": [
        {
          "output_type": "stream",
          "name": "stdout",
          "text": [
            "1,000\n"
          ]
        }
      ]
    },
    {
      "cell_type": "code",
      "metadata": {
        "colab": {
          "base_uri": "https://localhost:8080/"
        },
        "id": "geSb_8xUtTwY",
        "outputId": "aa740bef-a4ea-44ad-a631-69d0dff061b9"
      },
      "source": [
        "n = str('1,000,000')\n",
        "n = n.replace(',','')\n",
        "print(n)"
      ],
      "execution_count": 124,
      "outputs": [
        {
          "output_type": "stream",
          "name": "stdout",
          "text": [
            "1000000\n"
          ]
        }
      ]
    },
    {
      "cell_type": "code",
      "metadata": {
        "colab": {
          "base_uri": "https://localhost:8080/",
          "height": 35
        },
        "id": "LZ4IXyjw6Q5X",
        "outputId": "02848354-6bb0-43b0-ea6f-767b687dc013"
      },
      "source": [
        "# Trillion is not translated correctly:\n",
        "# Need to set an upper limit\n",
        "spellnum('1,000,000,000,000')"
      ],
      "execution_count": 126,
      "outputs": [
        {
          "output_type": "execute_result",
          "data": {
            "application/vnd.google.colaboratory.intrinsic+json": {
              "type": "string"
            },
            "text/plain": [
              "'one thousand billion'"
            ]
          },
          "metadata": {},
          "execution_count": 126
        }
      ]
    },
    {
      "cell_type": "code",
      "metadata": {
        "colab": {
          "base_uri": "https://localhost:8080/",
          "height": 53
        },
        "id": "gRplSW1iwBIj",
        "outputId": "57313e03-b511-46a4-dd77-7d4a27ca03dc"
      },
      "source": [
        "# Wrong answer to input larger than trillion\n",
        "# E.g. Right answer should be nine sextillion, nine hundred ninety-nine quintillion, nine hundred ninety-nine quadrillion, nine hundred ninety-nine trillion, nine hundred ninety-nine billion, nine hundred ninety-nine million, nine hundred ninety-nine thousand, nine hundred ninety-nine\n",
        "spellnum('9,999,999,999,999,999,999,999')"
      ],
      "execution_count": 127,
      "outputs": [
        {
          "output_type": "execute_result",
          "data": {
            "application/vnd.google.colaboratory.intrinsic+json": {
              "type": "string"
            },
            "text/plain": [
              "'nine thousand and nine hundred ninty-nine billion, nine hundred ninty-nine million, nine hundred ninty-nine thousand and nine hundred ninty-nine billion, nine hundred ninty-nine million, nine hundred ninty-nine thousand and nine hundred ninty-nine'"
            ]
          },
          "metadata": {},
          "execution_count": 127
        }
      ]
    },
    {
      "cell_type": "markdown",
      "metadata": {
        "id": "pXCUtPq6tvCp"
      },
      "source": [
        "### Exercise 3 - Refined Version 3"
      ]
    },
    {
      "cell_type": "markdown",
      "metadata": {
        "id": "jX76CXswxXq0"
      },
      "source": [
        "**NOTE - Exercise 3 - Refined Version 3**\n",
        "\n",
        "**What's new (Version 3):**\n",
        "> 1.    Cater both inputs of numbers and ***strings*** with thousands separators, ***comma*** '*** , ***'.\n",
        "2.    Cater inputs beyond the upper limit of this function (***one trillion*** or ***1,000,000,000,000***).\n",
        "3.    Simplify repeated and cummy values (thousand, million, billion).\n",
        "\n",
        "---\n",
        "**Illustration**\n",
        "\n",
        "Numbers are to be illustrated by different ranges:\n",
        "> * range A = 0 to 20 (unique names up to 20)\n",
        "* range B = 21 to 99 (less than hundred)\n",
        "* range C = 100 to 999 (less than thousand)\n",
        "* range D = 1,000 to 999,999 (less than million)\n",
        "* range E = 1,000,000 to 999,999,999 (less than billion)\n",
        "* range F = 1,000,000,000 to 999,999,999,999 (billion to below ***one trillion***)\n",
        "* Beyond upper limit, starting from ***one trillion***\n",
        "\n",
        "Repeatable values:\n",
        "> * 1,000 => k (thousand)\n",
        "* 1,000,000 => m (million)\n",
        "* 1,000,000,000 => b (billion)\n",
        "\n",
        "---\n",
        "**Python KB**\n",
        "\n",
        "Arithmetic operators (https://www.programiz.com/python-programming/operators):\n",
        "> * // = Floor division - division that results into whole number adjusted to the left in the number line x // y\n",
        "* % = Modulus - remainder of the division of left operand by the right x % y (remainder of x/y)\n",
        "\n",
        "Comparison operators:\n",
        "> * ==\tEqual to - True if both operands are equal\tx == y\n",
        "* !=\tNot equal to - True if operands are not equal\tx != y\n",
        "* <=\tLess than or equal to - True if left operand is less than or equal to the right\tx <= y\n",
        "\n",
        "Python String Operations (https://www.programiz.com/python-programming/string):\n",
        "> * \"+\" operator => writing two string literals together also concatenates them.\n",
        "* \"*\" operator => repeat the string for a given number of times.\n",
        "\n",
        "How to remove a comma from a string in Python (https://www.kite.com/python/answers/how-to-remove-a-comma-from-a-string-in-python#:~:text=Use%20str.,'%20in%20str%20with%20''%20.)\n",
        "> * s = s.replace(',', '')"
      ]
    },
    {
      "cell_type": "code",
      "metadata": {
        "id": "ULHSTZ9iub0K"
      },
      "source": [
        "# Exercise 3 - Fine-tuned Version 3\n",
        "# Simplify and ncrease the agility by getting rid of repeated values\n",
        "\n",
        "def spellnum(number):\n",
        "    \n",
        "    # remove comma ',' from a number\n",
        "    if str(number).find(','):\n",
        "       number = str(number).replace(',','')\n",
        "    number = int(number)     # regardless of numeric/string inpu, convert to integer\n",
        "    \n",
        "    # 0 to 20 unique numbers\n",
        "    n = { 0: \"zero\", 1: \"one\", 2: \"two\", 3: \"three\", 4: \"four\", 5: \"five\", 6: \"six\", 7: \"seven\", 8: \"eight\", 9: \"nine\", 10: \"ten\", \n",
        "          11: \"eleven\", 12: \"twelve\", 13: \"thirdteen\", 14: \"fourteen\", 15: \"fifteen\", \n",
        "          16: \"sixteen\", 17: \"seventeen\", 18: \"eighteen\", 19: \"nineteen\", \n",
        "          20: \"twenty\", 30: \"thirdty\", 40: \"fourty\", 50: \"fifty\", 60: \"sixty\", 70: \"seventy\", 80: \"eighty\", 90: \"ninty\" }\n",
        "    \n",
        "    # simplify repeated cummy values:\n",
        "    k = 1000        # thousand  = 1,000\n",
        "    m = k * 1000    # million   = 1,000,000\n",
        "    b = m * 1000    # billion   = 1,000,000,000\n",
        "\n",
        "    # range A = 0 to 20 (unique names up to 20)\n",
        "    if (number < 21):\n",
        "        return n[number]\n",
        "    \n",
        "    # range B = 21 to 99 (less than hundred)\n",
        "    if (number < 100):\n",
        "        if number % 10 == 0: return n[number]\n",
        "        else: return n[number // 10 * 10] + '-' + n[number % 10]\n",
        "\n",
        "    # range C = 100 to 999 (less than thousand)\n",
        "    if (number < k):\n",
        "        if number % 100 == 0: return n[number // 100] + ' hundred'\n",
        "        else: return n[number // 100] + ' hundred ' + spellnum(number % 100)\n",
        "\n",
        "    # range D = 1,000 to 999,999 (less than million)\n",
        "    if (number < m):\n",
        "        if number % k == 0: return spellnum(number // k) + ' thousand'\n",
        "        else: return spellnum(number // k) + ' thousand and ' + spellnum(number % k)\n",
        "\n",
        "    # range E = 1,000,000 to 999,999,999 (less than billion)\n",
        "    if (number < b):\n",
        "        if number % m == 0: return spellnum(number // m) + ' million'\n",
        "        else: return spellnum(number // m) + ' million, ' + spellnum(number % m)\n",
        "\n",
        "    # range F = 1,000,000,000 up to the upper limit (billion and less than one trillion)\n",
        "    if (number < b*k):\n",
        "        if number % b == 0: return spellnum(number // b) + ' billion'\n",
        "        else: return spellnum(number // b) + ' billion, ' + spellnum(number % b)\n",
        "\n",
        "    # beyond upper limit, starting from one trillion\n",
        "    print('This function only accepts inputs smaller than one trillion or 1,000,000,000,000.')"
      ],
      "execution_count": 92,
      "outputs": []
    },
    {
      "cell_type": "code",
      "metadata": {
        "id": "bvn7thgbwIPt"
      },
      "source": [
        "spellnum(1000000000)"
      ],
      "execution_count": null,
      "outputs": []
    },
    {
      "cell_type": "code",
      "metadata": {
        "id": "czyTbNCiw_CL"
      },
      "source": [
        "# Cater both inputs of numbers and strings with thousands separator, comma \",\"\n",
        "spellnum('9,999,999,999')"
      ],
      "execution_count": null,
      "outputs": []
    },
    {
      "cell_type": "code",
      "metadata": {
        "id": "z3_SkH9-wYRc"
      },
      "source": [
        "spellnum('9,999,999,999')"
      ],
      "execution_count": null,
      "outputs": []
    },
    {
      "cell_type": "code",
      "metadata": {
        "id": "iWs6ysaH6LW1"
      },
      "source": [
        "# Case : Right beyond the upper limit of 1,000,000,000,000:\n",
        "spellnum('999,999,999,999')"
      ],
      "execution_count": null,
      "outputs": []
    },
    {
      "cell_type": "code",
      "metadata": {
        "id": "GEESu1ddEVzS"
      },
      "source": [
        "# Case : Reaching the upper limit of one trilion 1,000,000,000,000:\n",
        "spellnum('1,000,000,000,000')"
      ],
      "execution_count": null,
      "outputs": []
    },
    {
      "cell_type": "code",
      "metadata": {
        "id": "yNJLrjbt9fYA"
      },
      "source": [
        "# Case : Beyond upper limit of 1,000,000,000,000:\n",
        "spellnum('10,000,000,000,000')"
      ],
      "execution_count": null,
      "outputs": []
    },
    {
      "cell_type": "markdown",
      "metadata": {
        "id": "iqYH_gcwiYXP"
      },
      "source": [
        "# Recommended reading (free online versions)"
      ]
    },
    {
      "cell_type": "markdown",
      "metadata": {
        "id": "1QLbxxkDiYXP"
      },
      "source": [
        "## Introductory\n",
        "- [Python 101](http://python101.pythonlibrary.org/) – The first 10 chapters are enough to start coding!\n",
        "- [Automate the Boring Stuff with Python](https://automatetheboringstuff.com/) – strongly recommender\n",
        "- [Python Docs](https://docs.python.org/3/) – Python Standard Library Docs (python comes with bateries)\n",
        "\n",
        "## Intermediary\n",
        "- [Python Data Science Handbook](https://jakevdp.github.io/PythonDataScienceHandbook/)\n",
        "- [Dive into Python](https://diveintopython3.problemsolving.io/) \n",
        "- [Think Bayes](https://greenteapress.com/wp/think-bayes/)\n",
        "- [Think Stats](https://greenteapress.com/wp/think-stats-2e/) \n",
        "- [Natural Language Processing in Python](https://www.nltk.org/book/) \n",
        "\n",
        "## Advanced\n",
        "- [The Elements of Statistical Learning](https://web.stanford.edu/~hastie/Papers/ESLII.pdf) \n",
        "- [Foundations of Statistical NLP](https://nlp.stanford.edu/fsnlp/) \n",
        "- [Introduction to Information Retrieval](https://nlp.stanford.edu/IR-book/)  \n",
        "\n",
        "## Misc\n",
        "- [Peter Norvig - The Unreasonable Effectiveness of Data](https://static.googleusercontent.com/media/research.google.com/en//pubs/archive/35179.pdf)\n",
        "- [Andrew Ng – Machine Learning Yearning](https://www.deeplearning.ai/machine-learning-yearning/)\n",
        "- [Tidy Data](https://vita.had.co.nz/papers/tidy-data.pdf) \n"
      ]
    },
    {
      "cell_type": "code",
      "metadata": {
        "id": "kYDEWUkaiYXP"
      },
      "source": [
        ""
      ],
      "execution_count": null,
      "outputs": []
    }
  ]
}